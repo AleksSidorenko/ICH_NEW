{
  "nbformat": 4,
  "nbformat_minor": 0,
  "metadata": {
    "colab": {
      "provenance": [],
      "collapsed_sections": [
        "vTU3efUjA6S_"
      ]
    },
    "kernelspec": {
      "name": "python3",
      "display_name": "Python 3"
    },
    "language_info": {
      "name": "python"
    }
  },
  "cells": [
    {
      "cell_type": "markdown",
      "source": [
        "## Python fundamentals: Домашнее задание 34 (Python)\n"
      ],
      "metadata": {
        "id": "LPpSgBKf67kW"
      }
    },
    {
      "cell_type": "markdown",
      "source": [
        "### 0"
      ],
      "metadata": {
        "id": "vTU3efUjA6S_"
      }
    },
    {
      "cell_type": "code",
      "source": [
        "pattern = r\"[a-zA-Z0-9_.+-]+@[a-zA-Z0-9-]+\\.[a-zA-Z0-9-.]+\"\n",
        "text = \"Contact us at info@example.com or support@example.com for assistance. support@example.qwe.com\"\n"
      ],
      "metadata": {
        "id": "3BGIEvE28qjD"
      },
      "execution_count": null,
      "outputs": []
    },
    {
      "cell_type": "code",
      "source": [
        "# pip install email-validator\n",
        "from email_validator import validate_email, EmailNotValidError\n",
        "\n",
        "try:\n",
        "    valid = validate_email(\"support@example.com\")\n",
        "    # valid = validate_email(\"support@gmail.com\")\n",
        "    print(valid.normalized)\n",
        "except EmailNotValidError as e:\n",
        "    print(\"Invalid:\", e)\n"
      ],
      "metadata": {
        "id": "Ys-wZulJA-fz"
      },
      "execution_count": null,
      "outputs": []
    },
    {
      "cell_type": "markdown",
      "source": [
        "### 1.\n",
        "Напишите функцию extract_emails(text), которая извлекает все адреса электронной почты из заданного текста и возвращает их в виде списка.\n",
        "\n",
        "\n",
        "Пример использования:\n",
        "\n",
        "\n",
        "text = \"Contact us at info@example.com or support@example.com for assistance.\"\n",
        "\n",
        "\n",
        "emails = extract_emails(text)\n",
        "\n",
        "print(emails)  # Вывод: ['info@example.com', 'support@example.com']"
      ],
      "metadata": {
        "id": "678n91qQ6-T-"
      }
    },
    {
      "cell_type": "code",
      "source": [
        "import re\n",
        "\n",
        "def extract_emails(text):\n",
        "    pattern = r\"\\w+@\\w+\\.\\w+\"\n",
        "    return re.findall(pattern, text)\n",
        "\n",
        "text = \"Contact us at info@example.com or support@example.com for assistance.\"\n",
        "emails = extract_emails(text)\n",
        "print(emails)  # Вывод: ['info@example.com', 'support@example.com']"
      ],
      "metadata": {
        "colab": {
          "base_uri": "https://localhost:8080/"
        },
        "id": "wPyLwgag76zC",
        "outputId": "9f8aa4c5-8889-473a-8aa1-33eeeebe74e9"
      },
      "execution_count": null,
      "outputs": [
        {
          "output_type": "stream",
          "name": "stdout",
          "text": [
            "['info@example.com', 'support@example.com']\n"
          ]
        }
      ]
    },
    {
      "cell_type": "code",
      "source": [
        "import re\n",
        "# creating function for finding and returning emails\n",
        "def extract_emails(message):\n",
        "    return re.findall(r'[\\w.-]+@[\\w.-]+', message)\n",
        "text = \"Contact us at info@example.com or support@example.com for assistance.\"\n",
        "emails = extract_emails(text)\n",
        "print(f'Founded emails: {emails}')"
      ],
      "metadata": {
        "colab": {
          "base_uri": "https://localhost:8080/"
        },
        "id": "i2VhCjqSDSH4",
        "outputId": "9f657257-ab08-492a-9676-291f50d2ce3d"
      },
      "execution_count": null,
      "outputs": [
        {
          "output_type": "stream",
          "name": "stdout",
          "text": [
            "Founded emails: ['info@example.com', 'support@example.com']\n"
          ]
        }
      ]
    },
    {
      "cell_type": "code",
      "source": [
        "import re\n",
        "\n",
        "\n",
        "def extract_emails(string):\n",
        "    pattern = r\"[a-zA-Z0-9._%+-]+@[a-zA-Z0-9._+-]+\\.[a-zA-Z]+\"\n",
        "    result = re.findall(pattern, string)\n",
        "    return result\n",
        "\n",
        "\n",
        "text = \"Contact us at gu.in%fo+za-zaz@example.ru.com or support@example.com for assistance.\"\n",
        "emails = extract_emails(text)\n",
        "\n",
        "print(emails)"
      ],
      "metadata": {
        "colab": {
          "base_uri": "https://localhost:8080/"
        },
        "id": "cn-1CTDHEvgY",
        "outputId": "c6a489a3-fe44-448e-f614-f7db026669dc"
      },
      "execution_count": null,
      "outputs": [
        {
          "output_type": "stream",
          "name": "stdout",
          "text": [
            "['gu.in%fo+za-zaz@example.ru.com', 'support@example.com']\n"
          ]
        }
      ]
    },
    {
      "cell_type": "code",
      "source": [
        "import re\n",
        "\n",
        "def extract_emails(text):\n",
        "    emails = re.findall(r'[a-zA-Z0-9_.+-]+@[a-zA-Z0-9-]+\\.[a-zA-Z0-9-.]+', text)\n",
        "    return emails\n",
        "\n",
        "text = \"Contact us at info@example.com or support@example.com for assistance\"\n",
        "emails = extract_emails(text)\n",
        "print(emails)"
      ],
      "metadata": {
        "colab": {
          "base_uri": "https://localhost:8080/"
        },
        "id": "bAEH9Eo0FZj5",
        "outputId": "97d37135-5220-453f-eb3b-4feb3b3f4d72"
      },
      "execution_count": null,
      "outputs": [
        {
          "output_type": "stream",
          "name": "stdout",
          "text": [
            "['info@example.com', 'support@example.com']\n"
          ]
        }
      ]
    },
    {
      "cell_type": "code",
      "source": [
        "def extract_emails(string) :\n",
        "    pattern_email = r'[\\w.]{1,64}@[\\w.]{1,190}(?!\\S)'\n",
        "    return re.findall(pattern_email,string)\n",
        "\n",
        "text = \"Contact us at info@example.com or support@example.com for assistance.\"\n",
        "emails = extract_emails(text)\n",
        "print(emails)"
      ],
      "metadata": {
        "id": "fhxUBbEyHbQ2",
        "colab": {
          "base_uri": "https://localhost:8080/"
        },
        "outputId": "f178bbef-989b-44cf-ea04-9b33b228b6e0"
      },
      "execution_count": null,
      "outputs": [
        {
          "output_type": "stream",
          "name": "stdout",
          "text": [
            "['info@example.com', 'support@example.com']\n"
          ]
        }
      ]
    },
    {
      "cell_type": "markdown",
      "source": [
        "### 2.\n",
        "Напишите функцию highlight_keywords(text, keywords), которая выделяет все вхождения заданных ключевых слов в тексте, окружая их символами *. Функция должна быть регистронезависимой при поиске ключевых слов.\n",
        "\n",
        "\n",
        "Пример использования:\n",
        "\n",
        "\n",
        "text = \"This is a sample text. We need to highlight Python and programming.\"\n",
        "\n",
        "\n",
        "keywords = [\"python\", \"programming\"]\n",
        "\n",
        "highlighted_text = highlight_keywords(text, keywords)\n",
        "\n",
        "print(highlighted_text)\n",
        "\n",
        "Вывод: \"This is a sample text. We need to highlight *Python* and *programming*.\"\n",
        "\n"
      ],
      "metadata": {
        "id": "r-BJLbFa7Enf"
      }
    },
    {
      "cell_type": "code",
      "source": [
        "def highlight_keywords(text, keywords):\n",
        "    pattern = r'\\b(' + '|'.join(map(re.escape, keywords)) + r')\\b'\n",
        "    return re.sub(\n",
        "        pattern,\n",
        "        lambda m: f\"*{m.group()}*\",\n",
        "        text,\n",
        "        flags=re.IGNORECASE)\n",
        "\n",
        "\n",
        "\n",
        "text = \"This is a sample text. We need to highlight Python and programming.\"\n",
        "keywords = [\"python\", \"programming\"]\n",
        "highlighted_text = highlight_keywords(text, keywords)\n",
        "print(highlighted_text) # Вывод: \"This is a sample text. We need to highlight *Python* and *programming*.\""
      ],
      "metadata": {
        "colab": {
          "base_uri": "https://localhost:8080/"
        },
        "id": "nbVvYpgMCrxA",
        "outputId": "3ee33dc0-b388-4dd0-bb58-e5d7929ba3b8"
      },
      "execution_count": null,
      "outputs": [
        {
          "output_type": "stream",
          "name": "stdout",
          "text": [
            "This is a sample text. We need to highlight *Python* and *programming*.\n"
          ]
        }
      ]
    },
    {
      "cell_type": "code",
      "source": [
        "import re\n",
        "# creating a function to search for words and insert asterisks around them\n",
        "def highlight_keywords(message, format):\n",
        "    # calling each word from list\n",
        "    for word in format:\n",
        "        # creating pattern to find word in general text\n",
        "        pattern = r'\\b' + re.escape(word) + r'\\b'\n",
        "        # replacing match with the highlighted word\n",
        "        message = re.sub(pattern, r'*\\g<0>*', message, flags=re.IGNORECASE)\n",
        "    return message\n",
        "\n",
        "\n",
        "text = \"This is a sample text. We need to highlight Python and programming.\"\n",
        "keywords = [\"python\", \"programming\"]\n",
        "highlighted_text = highlight_keywords(text, keywords)\n",
        "print(highlighted_text) # result: This is a sample text. We need to highlight *Python* and *programming*."
      ],
      "metadata": {
        "colab": {
          "base_uri": "https://localhost:8080/"
        },
        "id": "ByDS0fhoEPBa",
        "outputId": "ebbbdd46-a264-4b52-99a1-27b7de1c68b1"
      },
      "execution_count": null,
      "outputs": [
        {
          "output_type": "stream",
          "name": "stdout",
          "text": [
            "This is a sample text. We need to highlight *Python* and *programming*.\n"
          ]
        }
      ]
    },
    {
      "cell_type": "markdown",
      "source": [
        "-----"
      ],
      "metadata": {
        "id": "OY7ox6IRELXq"
      }
    },
    {
      "cell_type": "code",
      "source": [
        "import re\n",
        "\n",
        "def highlight_keywords(text, keywords):\n",
        "    # Преобразуем текст в нижний регистр для регистронезависимости\n",
        "    for keyword in keywords:\n",
        "        # Создаем шаблон для поиска ключевого слова в тексте, игнорируя регистр\n",
        "        pattern = re.compile(re.escape(keyword), re.IGNORECASE)\n",
        "        # Заменяем все вхождения ключевого слова на то же самое слово, окруженное *\n",
        "        text = pattern.sub(lambda match: f\"*{match.group(0)}*\", text)\n",
        "    return text\n",
        "\n",
        "# Пример использования:\n",
        "text = \"This is a sample text. We need to highlight Python and programming.\"\n",
        "keywords = [\"python\", \"programming\"]\n",
        "highlighted_text = highlight_keywords(text, keywords)\n",
        "print(highlighted_text)\n"
      ],
      "metadata": {
        "id": "O9m_fhwGCfB_"
      },
      "execution_count": null,
      "outputs": []
    },
    {
      "cell_type": "code",
      "source": [
        "import re\n",
        "\n",
        "\n",
        "def highlight_keywords(string, list_words):\n",
        "    for word in list_words:\n",
        "        string = re.sub(r\"\\b\" + word + r\"\\b\", \"*\" + word + \"*\", string, flags=re.IGNORECASE)\n",
        "    return string\n",
        "\n",
        "\n",
        "text = \"This is a sample text. We need to highlight Python and programming.\"\n",
        "keywords = [\"python\", \"programming\"]\n",
        "\n",
        "highlighted_text = highlight_keywords(text, keywords)\n",
        "print(highlighted_text)"
      ],
      "metadata": {
        "colab": {
          "base_uri": "https://localhost:8080/"
        },
        "id": "zhzovtrDE4Ye",
        "outputId": "b796186d-7de9-4f72-ec0d-66bff34e8323"
      },
      "execution_count": null,
      "outputs": [
        {
          "output_type": "stream",
          "name": "stdout",
          "text": [
            "This is a sample text. We need to highlight *python* and *programming*.\n"
          ]
        }
      ]
    },
    {
      "cell_type": "code",
      "source": [
        "import re\n",
        "\n",
        "def highlight_keywords(text, keywords):\n",
        "    for key in keywords:\n",
        "        text = re.sub(r'(' + key + r')', r'*\\1*', text, flags=re.IGNORECASE)\n",
        "    return text\n",
        "\n",
        "text = \"This is a sample text. We need to highlight Python and programming.\"\n",
        "keywords = [\"python\", \"programming\"]\n",
        "\n",
        "result = highlight_keywords(text, keywords)\n",
        "print(result)"
      ],
      "metadata": {
        "colab": {
          "base_uri": "https://localhost:8080/"
        },
        "id": "dLLy2gpyFs6G",
        "outputId": "588503eb-9c5b-466e-c01c-2adf36e1a8cf"
      },
      "execution_count": null,
      "outputs": [
        {
          "output_type": "stream",
          "name": "stdout",
          "text": [
            "This is a sample text. We need to highlight *Python* and *programming*.\n"
          ]
        }
      ]
    },
    {
      "cell_type": "code",
      "source": [
        "import re\n",
        "\n",
        "def highlight_keywords(text, keywords):\n",
        "    pattern = re.compile('|'.join(map(re.escape, keywords)), re.IGNORECASE)\n",
        "    highlighted_text = pattern.sub(lambda match: f'*{match.group(0)}*', text)\n",
        "\n",
        "    return highlighted_text\n",
        "\n",
        "text = \"This is a sample text. We need to highlight Python and programming.\"\n",
        "keywords = [\"python\", \"programming\"]\n",
        "\n",
        "highlighted_text = highlight_keywords(text, keywords)\n",
        "print(highlighted_text)\n"
      ],
      "metadata": {
        "id": "GALJL8lPGX5-",
        "colab": {
          "base_uri": "https://localhost:8080/"
        },
        "outputId": "313718a8-5750-40b3-92c7-1d139790a46a"
      },
      "execution_count": null,
      "outputs": [
        {
          "output_type": "stream",
          "name": "stdout",
          "text": [
            "This is a sample text. We need to highlight *Python* and *programming*.\n"
          ]
        }
      ]
    },
    {
      "cell_type": "code",
      "source": [
        "# same\n",
        "import re\n",
        "\n",
        "def highlight_keywords(text, keywords):\n",
        "    pattern = '|'.join(map(re.escape, keywords))\n",
        "    highlighted_text = re.sub(pattern, lambda match: f'*{match.group(0)}*', text, re.IGNORECASE)\n",
        "\n",
        "    return highlighted_text\n",
        "\n",
        "text = \"This is a sample text. We need to highlight Python and programming.\"\n",
        "keywords = [\"python\", \"programming\"]\n",
        "\n",
        "highlighted_text = highlight_keywords(text, keywords)\n",
        "print(highlighted_text)\n"
      ],
      "metadata": {
        "colab": {
          "base_uri": "https://localhost:8080/"
        },
        "id": "ma9C_JBo9ybl",
        "outputId": "8eb23517-06f6-4271-dc3c-2694e16ec319"
      },
      "execution_count": null,
      "outputs": [
        {
          "output_type": "stream",
          "name": "stdout",
          "text": [
            "This is a sample text. We need to highlight Python and *programming*.\n"
          ]
        }
      ]
    },
    {
      "cell_type": "code",
      "source": [
        "def highlight_keywords(text, keywords):\n",
        "    pattern = r'(' + '|'.join(re.escape(word) for word in keywords) + r')'\n",
        "    print(pattern)\n",
        "    highlighted_text = re.sub(pattern, r'*\\1*', text, flags=re.IGNORECASE)\n",
        "    return highlighted_text\n",
        "\n",
        "\n",
        "\n",
        "text = \"This is a sample text. We need to highlight Python and programming.\"\n",
        "keywords = [\"python\", \"programming\"]\n",
        "highlighted_text = highlight_keywords(text, keywords)\n",
        "print(highlighted_text)"
      ],
      "metadata": {
        "id": "DzoiPqaoGmyY"
      },
      "execution_count": null,
      "outputs": []
    },
    {
      "cell_type": "code",
      "source": [
        "def highlight_keywords(string: str, keyword: list[str]) -> str:\n",
        "    new_text = string\n",
        "    for word in keyword :\n",
        "        new_text = re.sub(rf\"({word})\", r'*\\1*', new_text, flags=re.IGNORECASE)\n",
        "    return new_text\n",
        "\n",
        "text = \"This is a sample text. We need to highlight Python and programming.\"\n",
        "keywords = [\"python\", \"programming\"]\n",
        "print(highlight_keywords(text,keywords))"
      ],
      "metadata": {
        "colab": {
          "base_uri": "https://localhost:8080/"
        },
        "id": "f-hlv5D3HTAg",
        "outputId": "b0d363d1-ccd9-43d7-d6fe-e2c89d739133"
      },
      "execution_count": null,
      "outputs": [
        {
          "output_type": "stream",
          "name": "stdout",
          "text": [
            "This is a sample text. We need to highlight *Python* and *programming*.\n"
          ]
        }
      ]
    },
    {
      "cell_type": "code",
      "source": [
        "import re\n",
        "\n",
        "def highlight_keywords(e_text, e_keywords):\n",
        "    result = \"\"\n",
        "    for word in e_text.split():\n",
        "        if bla := re.findall(r\"\\b\" + word.lower() + r\"+\", str(e_keywords)):\n",
        "            result += f\"*{word}* \"\n",
        "        else:\n",
        "            result += f\"{word} \"\n",
        "\n",
        "    return result.strip()\n",
        "\n",
        "\n",
        "text = \"This is a sample text. We need to highlight Python and programming.\"\n",
        "keywords = [\"python\", \"programming\"]\n",
        "highlighted_text = highlight_keywords(text, keywords)\n",
        "print(highlighted_text)"
      ],
      "metadata": {
        "colab": {
          "base_uri": "https://localhost:8080/"
        },
        "id": "bbTHU0DxHxnH",
        "outputId": "2c9e3597-5afe-44e5-ddca-45dfa5a21b4b"
      },
      "execution_count": null,
      "outputs": [
        {
          "output_type": "stream",
          "name": "stdout",
          "text": [
            "This is a sample text. We need to highlight *Python* and *programming.*\n"
          ]
        }
      ]
    },
    {
      "cell_type": "code",
      "source": [
        "import re\n",
        "\n",
        "def highlight_keywords(text, keywords):\n",
        "    for keyword in keywords:\n",
        "        text = re.sub(rf\"\\b({keyword})\\b\", r\"*\\1*\", text, flags=re.I)\n",
        "    return text\n",
        "\n",
        "text = \"This is a sample text. We need to highlight Python and programming.\"\n",
        "keywords = [\"python\", \"programming\"]\n",
        "\n",
        "print(highlight_keywords(text, keywords))"
      ],
      "metadata": {
        "colab": {
          "base_uri": "https://localhost:8080/"
        },
        "id": "UOoB9ZVoK-b2",
        "outputId": "4c633c95-5fc9-47fe-febf-b6ac127d2232"
      },
      "execution_count": null,
      "outputs": [
        {
          "output_type": "stream",
          "name": "stdout",
          "text": [
            "This is a sample text. We need to highlight *Python* and *programming*.\n"
          ]
        }
      ]
    },
    {
      "cell_type": "code",
      "source": [
        "# +++++++++++++\n",
        "import re\n",
        "# +++++++++++++\n",
        "\n",
        "\n",
        "def highlight_keywords(text, keywords):\n",
        "    pattern = re.compile(r'\\b(' + '|'.join(word for word in keywords) + r')\\b', re.IGNORECASE)\n",
        "    hghltd_txt = re.sub(pattern, r'*\\1*', text)\n",
        "    return hghltd_txt\n",
        "\n",
        "text = \"This is a sample text. We need to highlight Python and programming.\"\n",
        "keywords = [\"python\", \"programming\"]\n",
        "highlighted_text = highlight_keywords(text, keywords)\n",
        "print(highlighted_text)"
      ],
      "metadata": {
        "colab": {
          "base_uri": "https://localhost:8080/"
        },
        "id": "MI5EQ8yLKPux",
        "outputId": "6d775c10-d564-465d-bf92-3274dff328ea"
      },
      "execution_count": null,
      "outputs": [
        {
          "output_type": "stream",
          "name": "stdout",
          "text": [
            "This is a sample text. We need to highlight *Python* and *programming*.\n"
          ]
        }
      ]
    },
    {
      "cell_type": "code",
      "source": [
        "import re\n",
        "\n",
        "text = \"This is a sample text. We need to highlight Python and programming.\"\n",
        "keywords = [\"python\", \"programming\"]\n",
        "\n",
        "def highlight_word(word):\n",
        "    return f\"\\033[48;5;208m\\033[38;5;0m{word}\\033[0m\"\n",
        "\n",
        "\n",
        "pattern = re.compile(r'(' + '|'.join(keywords) + r')', re.IGNORECASE)\n",
        "highlighted_text = pattern.sub(lambda m: highlight_word(m.group(0)), text)\n",
        "print(highlighted_text)\n"
      ],
      "metadata": {
        "colab": {
          "base_uri": "https://localhost:8080/"
        },
        "id": "6NTtHKm37ikL",
        "outputId": "8e08fc3e-12ec-4a21-9551-7539190da0f2"
      },
      "execution_count": null,
      "outputs": [
        {
          "output_type": "stream",
          "name": "stdout",
          "text": [
            "This is a sample text. We need to highlight \u001b[48;5;208m\u001b[38;5;0mPython\u001b[0m and \u001b[48;5;208m\u001b[38;5;0mprogramming\u001b[0m.\n"
          ]
        }
      ]
    },
    {
      "cell_type": "markdown",
      "source": [
        "-----"
      ],
      "metadata": {
        "id": "68vTo6TuFMAn"
      }
    },
    {
      "cell_type": "code",
      "source": [
        "# teacher\n",
        "import re\n",
        "\n",
        "def highlight_keywords(text, keywords):\n",
        "    for word in keywords:\n",
        "        pattern = rf'\\b({word})\\b'  # r'\\b(python)\\b'\n",
        "        text = re.sub(pattern, r'*\\1*', text, flags=re.IGNORECASE)  # '*\\1*' = '*python*' = '*Python*'\n",
        "    return text\n",
        "\n",
        "text = \"This is a sample text. We need to highlight Python and programming.\"\n",
        "keywords = [\"python\", \"programming\"]\n",
        "print(highlight_keywords(text, keywords))"
      ],
      "metadata": {
        "colab": {
          "base_uri": "https://localhost:8080/"
        },
        "id": "bTc_ehocFMyo",
        "outputId": "9d99735c-d8cd-45f1-8c06-3207f2bf020a"
      },
      "execution_count": null,
      "outputs": [
        {
          "output_type": "stream",
          "name": "stdout",
          "text": [
            "This is a sample text. We need to highlight *Python* and *programming*.\n"
          ]
        }
      ]
    },
    {
      "cell_type": "code",
      "source": [
        "# teacher\n",
        "import re\n",
        "\n",
        "def highlight_keywords(text, keywords):\n",
        "    for word in keywords:\n",
        "        pattern = rf'\\b({word})\\b (\\w+)'  # r'\\b(python)\\b'\n",
        "        text = re.sub(pattern, r'-\\2- *\\1*', text, flags=re.IGNORECASE)  # '*\\1*' = '*python*' = '*Python*'\n",
        "    return text\n",
        "\n",
        "text = \"This is a sample text. We need to highlight Python and programming cxdg.\"\n",
        "keywords = [\"python\", \"programming\"]\n",
        "print(highlight_keywords(text, keywords))"
      ],
      "metadata": {
        "colab": {
          "base_uri": "https://localhost:8080/"
        },
        "id": "RdcktEkBSR15",
        "outputId": "34b3d944-75bc-42da-a75d-eae15b529c39"
      },
      "execution_count": null,
      "outputs": [
        {
          "output_type": "stream",
          "name": "stdout",
          "text": [
            "This is a sample text. We need to highlight -and- *Python* -cxdg- *programming*.\n"
          ]
        }
      ]
    },
    {
      "cell_type": "code",
      "source": [
        "import re\n",
        "\n",
        "text = \"Dates: 03.06.2025, 05/02/2024\"\n",
        "# yyyy-mm-dd\n",
        "\n",
        "pattern = r'.+: (\\d{2})[./-](\\d{2})[./-](\\d{4})'\n",
        "matches = re.findall(pattern, text)\n",
        "print(matches)\n",
        "new_text = re.sub(pattern, r'\\3-\\2-\\1', text)\n",
        "print(new_text)"
      ],
      "metadata": {
        "colab": {
          "base_uri": "https://localhost:8080/"
        },
        "id": "n5k8_nztTJCa",
        "outputId": "3aa6c224-2aa2-426a-f9c3-f7d2c80fa649"
      },
      "execution_count": null,
      "outputs": [
        {
          "output_type": "stream",
          "name": "stdout",
          "text": [
            "[('03', '06', '2025')]\n",
            "2025-06-03, 05/02/2024\n"
          ]
        }
      ]
    },
    {
      "cell_type": "markdown",
      "source": [
        "## Python fundamentals: Домашнее задание 35 (Python)\n"
      ],
      "metadata": {
        "id": "_AfRNQjW7Kxo"
      }
    },
    {
      "cell_type": "markdown",
      "source": [
        "### 1.\n",
        "Напишите функцию get_response(url), которая отправляет GET-запрос по заданному URL-адресу и возвращает объект ответа. Затем выведите следующую информацию об ответе:\n",
        "\n",
        "- Код состояния (status code)\n",
        "\n",
        "- Текст ответа (response text)\n",
        "\n",
        "- Заголовки ответа (response headers)\n",
        "\n",
        "\n",
        "Пример использования:\n",
        "\n",
        "\n",
        "url = \"https://api.example.com\"\n",
        "\n",
        "response = get_response(url)\n",
        "\n",
        "\n",
        "print(\"Status Code:\", response.status_code)\n",
        "\n",
        "print(\"Response Text:\", response.text)\n",
        "\n",
        "print(\"Response Headers:\", response.headers)"
      ],
      "metadata": {
        "id": "M7ZOZcFC7Nca"
      }
    },
    {
      "cell_type": "code",
      "source": [
        "import requests\n",
        "\n",
        "def get_response(url):\n",
        "    return requests.get(url)\n",
        "\n",
        "url = \"https://example.com/\"\n",
        "response = get_response(url)\n",
        "print(\"Status Code:\", response.status_code)\n",
        "print(\"Response Text:\", response.text)\n",
        "print(\"Response Headers:\", response.headers)\n"
      ],
      "metadata": {
        "id": "LyHlhxroLV83"
      },
      "execution_count": null,
      "outputs": []
    },
    {
      "cell_type": "code",
      "source": [
        "import requests\n",
        "# creating function get response\n",
        "def get_response(url):\n",
        "    request = requests.get(url)\n",
        "    return request\n",
        "# taking any url for checking\n",
        "# url = \"https://api.example.com\"\n",
        "url = 'http://youtube.com'\n",
        "response = get_response(url)\n",
        "# showing / printing result for given url\n",
        "print(f'Status code: \\n{response.status_code}\\n')\n",
        "print(f'Response text: \\n{response.text}\\n')\n",
        "print(f'Response headers: \\n{response.headers}\\n')"
      ],
      "metadata": {
        "id": "QPbbsHJTNFqG"
      },
      "execution_count": null,
      "outputs": []
    },
    {
      "cell_type": "code",
      "source": [
        "import requests\n",
        "\n",
        "\n",
        "def get_response(url):\n",
        "    try:\n",
        "        response = requests.get(url)\n",
        "        response.raise_for_status()\n",
        "        print(f\"Status Code: {response.status_code}\\n\")\n",
        "        print(f\"Response Text:\\n\\n{response.text[:300]}\\n\")\n",
        "        print(\"Response Headers:\\n\")\n",
        "        for key, value in response.headers.items():\n",
        "            print(f\"{key}: {value}\")\n",
        "\n",
        "        return response\n",
        "\n",
        "    except requests.RequestException as e:\n",
        "        print(f\"Error while executing the request: {e}\")\n",
        "        return None\n",
        "\n",
        "url = \"https://lms.itcareerhub.de/course/view.php?id=103\"\n",
        "get_response(url)"
      ],
      "metadata": {
        "id": "cegS7f6BOSa9"
      },
      "execution_count": null,
      "outputs": []
    },
    {
      "cell_type": "markdown",
      "source": [
        "### 2.\n",
        "Напишите функцию find_common_words(url_list), которая принимает список URL-адресов и возвращает список наиболее часто встречающихся слов на веб-страницах. Для каждого URL-адреса функция должна получить содержимое страницы с помощью запроса GET и использовать регулярные выражения для извлечения слов. Затем функция должна подсчитать количество вхождений каждого слова и вернуть наиболее часто встречающиеся слова в порядке убывания частоты.\n",
        "\n"
      ],
      "metadata": {
        "id": "3puYDhtx7Pz_"
      }
    },
    {
      "cell_type": "code",
      "source": [
        "from collections import Counter\n",
        "import re\n",
        "def find_common_words(url_list):\n",
        "    word_counter = Counter()\n",
        "    for url in url_list:\n",
        "        response = requests.get(url)\n",
        "        content = response.text\n",
        "        words = re.findall(r\"\\w+\", content.lower())\n",
        "        word_counter.update(words)\n",
        "    return word_counter.most_common(10)\n",
        "\n",
        "\n",
        "url_list = (\"https://google.com\", \"https://amazon.com\", \"https://samsung.com\", \"https://apple.com\")\n",
        "most_common_words = find_common_words(url_list)\n",
        "for word, count in most_common_words:\n",
        "    print(f\"{word} встречается {count} раз\")\n"
      ],
      "metadata": {
        "colab": {
          "base_uri": "https://localhost:8080/"
        },
        "id": "b7v-Pw4-Lggn",
        "outputId": "d2da57db-22c8-43cd-91a1-e44c0abf34ca"
      },
      "execution_count": null,
      "outputs": [
        {
          "output_type": "stream",
          "name": "stdout",
          "text": [
            "class встречается 3803 раз\n",
            "1 встречается 3146 раз\n",
            "div встречается 2840 раз\n",
            "e встречается 2563 раз\n",
            "an встречается 2393 раз\n",
            "0 встречается 2342 раз\n",
            "a встречается 2005 раз\n",
            "home встречается 1467 раз\n",
            "t встречается 1400 раз\n",
            "2 встречается 1391 раз\n"
          ]
        }
      ]
    },
    {
      "cell_type": "code",
      "source": [
        "import requests\n",
        "import re\n",
        "from collections import Counter\n",
        "\n",
        "\n",
        "# creating function find_common_words\n",
        "def find_common_words(url_list):\n",
        "    # creating dictionary for most common words\n",
        "    most_common_words = {}\n",
        "    # looking for words and letters and counting them\n",
        "    for url in url_list:\n",
        "        data_get = requests.get(url)\n",
        "        search_words = re.findall(r'[a-zA-Z]+', data_get.text)\n",
        "        words_counter = Counter(search_words)\n",
        "        most_common_words[url] = words_counter.most_common(3)\n",
        "    # returning result\n",
        "    return most_common_words\n",
        "\n",
        "\n",
        "# adding some url´s for checking\n",
        "site_list = ['https://youtube.com', 'https://google.com', 'https://facebook.com']\n",
        "result = find_common_words(site_list)\n",
        "for urls, values in result.items():\n",
        "    print(f'Three most common words / letters for \"{urls}\" are: {values}')"
      ],
      "metadata": {
        "colab": {
          "base_uri": "https://localhost:8080/"
        },
        "id": "7RAxtWpzNRY9",
        "outputId": "5ba03c01-c95c-4a50-ae54-e0fcbc695a63"
      },
      "execution_count": null,
      "outputs": [
        {
          "output_type": "stream",
          "name": "stdout",
          "text": [
            "Three most common words / letters for \"https://youtube.com\" are: [('u', 17089), ('dtrue', 5781), ('html', 3672)]\n",
            "Three most common words / letters for \"https://google.com\" are: [('a', 191), ('x', 106), ('google', 104)]\n",
            "Three most common words / letters for \"https://facebook.com\" are: [('a', 433), ('b', 330), ('d', 302)]\n"
          ]
        }
      ]
    },
    {
      "cell_type": "code",
      "source": [
        "import requests\n",
        "import re\n",
        "from collections import Counter\n",
        "\n",
        "def find_common_words(url_list):\n",
        "    words = []\n",
        "    for url in url_list:\n",
        "        response = requests.get(url)\n",
        "        text = response.text\n",
        "        for line in text.splitlines():\n",
        "            result = re.findall(r'\\w+', line.lower(), re.IGNORECASE)\n",
        "            for word in result:\n",
        "                words.append(word)\n",
        "\n",
        "    return Counter(words).most_common(20)\n",
        "\n",
        "url_s = [\"https://example.com\", \"https://youtube.com\", \"https://www.instagram.com\"]\n",
        "common_words = find_common_words(url_s)\n",
        "\n",
        "print(\"Результат максимального количества слов:\")\n",
        "for word_res, count in common_words:\n",
        "\n",
        "    print([f\"{word_res} : {count}\"])"
      ],
      "metadata": {
        "colab": {
          "base_uri": "https://localhost:8080/"
        },
        "id": "BGU9JWCANhpK",
        "outputId": "accb1433-1098-49da-d5fe-6a1e490c1508"
      },
      "execution_count": null,
      "outputs": [
        {
          "output_type": "stream",
          "name": "stdout",
          "text": [
            "Результат максимального количества слов:\n",
            "['u003dtrue : 5751']\n",
            "['0 : 1781']\n",
            "['1 : 1545']\n",
            "['u003d0 : 1530']\n",
            "['true : 1337']\n",
            "['null : 956']\n",
            "['r : 747']\n",
            "['com : 703']\n",
            "['js : 703']\n",
            "['false : 686']\n",
            "['https : 608']\n",
            "['div : 592']\n",
            "['text : 521']\n",
            "['255 : 514']\n",
            "['path : 512']\n",
            "['m : 506']\n",
            "['php : 485']\n",
            "['destination : 477']\n",
            "['static : 465']\n",
            "['cdninstagram : 461']\n"
          ]
        }
      ]
    },
    {
      "cell_type": "code",
      "source": [
        "import requests\n",
        "import re\n",
        "from collections import Counter\n",
        "\n",
        "def find_common_words(url_list):\n",
        "    word_count = Counter()  # счетчик для слов\n",
        "\n",
        "    for url in url_list:\n",
        "            response = requests.get(url)\n",
        "            text = response.text\n",
        "\n",
        "            words = re.findall(r'\\b\\w+\\b', text, flags=re.I)  # поиск слов\n",
        "            word_count.update(words)  # добавляем слова в счетчик\n",
        "\n",
        "    return word_count.most_common()  # возвращаем количество вхождений слов\n",
        "\n",
        "urls = [\n",
        "    \"https://example.com\",\n",
        "    \"https://habr.com\"\n",
        "]\n",
        "common_words = find_common_words(urls)\n",
        "for word, count in common_words[:10]:  # Выводим первые 10 слов\n",
        "    print(f\"{word}: {count}\")"
      ],
      "metadata": {
        "colab": {
          "base_uri": "https://localhost:8080/"
        },
        "id": "-YV1HwTiN8sh",
        "outputId": "3043113d-6b90-4b38-fea4-5ae86814e499"
      },
      "execution_count": null,
      "outputs": [
        {
          "output_type": "stream",
          "name": "stdout",
          "text": [
            "tm: 1577\n",
            "class: 1144\n",
            "div: 860\n",
            "span: 706\n",
            "svg: 701\n",
            "article: 630\n",
            "title: 567\n",
            "data: 457\n",
            "id: 385\n",
            "false: 371\n"
          ]
        }
      ]
    },
    {
      "cell_type": "code",
      "source": [
        "import requests\n",
        "import re\n",
        "from collections import Counter\n",
        "\n",
        "\n",
        "def find_common_words(url_list):\n",
        "    if not url_list:\n",
        "        raise ValueError('No URL given')\n",
        "\n",
        "    all_words = []\n",
        "\n",
        "    for url in url_list:\n",
        "        try:\n",
        "            response = requests.get(url)\n",
        "            response.raise_for_status()\n",
        "            text = response.text\n",
        "            words = re.findall(r'\\b[A-Za-zА-Яа-яЕё]{2,}\\b', text.lower())\n",
        "            all_words.extend(words)\n",
        "        except requests.RequestException as e:\n",
        "            print(f'Error during processing {url}: {e}')\n",
        "\n",
        "    words_count = Counter(all_words)\n",
        "    return words_count.most_common()\n",
        "\n",
        "result=find_common_words(url_list=['https://lms.itcareerhub.de/course/view.php?id=103'])\n",
        "for i in result:\n",
        "     print(f'{i[0]:<25}: {i[1]}')"
      ],
      "metadata": {
        "id": "87lZFRa3OxRw"
      },
      "execution_count": null,
      "outputs": []
    }
  ]
}