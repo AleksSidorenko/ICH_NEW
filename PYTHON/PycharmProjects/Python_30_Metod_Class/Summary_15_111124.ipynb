{
  "nbformat": 4,
  "nbformat_minor": 0,
  "metadata": {
    "colab": {
      "provenance": []
    },
    "kernelspec": {
      "name": "python3",
      "display_name": "Python 3"
    },
    "language_info": {
      "name": "python"
    }
  },
  "cells": [
    {
      "cell_type": "markdown",
      "source": [
        "## Python fundamentals: Домашнее задание 29 (Python)\n"
      ],
      "metadata": {
        "id": "ZOGYfrqMSyjv"
      }
    },
    {
      "cell_type": "markdown",
      "source": [
        "### 1.\n",
        "Создайте класс Rectangle для представления прямоугольника. Класс должен иметь атрибуты width (ширина) и height (высота), а также метод calculate_area(), который вычисляет площадь прямоугольника. Затем создайте экземпляр класса Rectangle с заданными значениями ширины и высоты и выведите его площадь.\n",
        "\n"
      ],
      "metadata": {
        "id": "6U2KJW47S14J"
      }
    },
    {
      "cell_type": "code",
      "source": [
        "class Rectangle:\n",
        "    def __init__(self, width, height):\n",
        "        self.width = width\n",
        "        self.height = height\n",
        "\n",
        "    def calculate_area(self):\n",
        "        # self.area = self.width * self.height\n",
        "        # return f\"width: {self.width} * height: {self.height} = {self.width * self.height}\"\n",
        "        return self.width * self.height\n",
        "\n",
        "width = 5\n",
        "height = 7\n",
        "\n",
        "rectangle = Rectangle(width, height)\n",
        "\n",
        "print(\"result:\", rectangle.calculate_area())\n",
        "\n",
        "rectangle.width = 40\n",
        "# print(\"result:\", rectangle.area)\n",
        "print(\"result:\", rectangle.calculate_area())\n"
      ],
      "metadata": {
        "colab": {
          "base_uri": "https://localhost:8080/"
        },
        "id": "JpyuaL_XTI40",
        "outputId": "08e1efb5-51e3-4f90-fc84-691036bffa3f"
      },
      "execution_count": null,
      "outputs": [
        {
          "output_type": "stream",
          "name": "stdout",
          "text": [
            "result: width: 5 * height: 7 = 35\n",
            "result: width: 40 * height: 7 = 280\n"
          ]
        }
      ]
    },
    {
      "cell_type": "code",
      "source": [
        "class Rectangle:\n",
        "    species = \"Quadrangles\"\n",
        "\n",
        "    def __init__(self, width, height):\n",
        "        if not isinstance(width, (int, float)) or not isinstance(height, (int, float)):\n",
        "            raise TypeError('Arguments must be a number')\n",
        "        self.width = width\n",
        "        self.height = height\n",
        "\n",
        "    def calculate_area(self):\n",
        "        return round(self.width * self.height, 2)\n",
        "\n",
        "\n",
        "\n",
        "try:\n",
        "    Figure1 = Rectangle(20.5556, 100.56)  # Неверный тип для width\n",
        "    print(f'Area is: {Figure1.calculate_area()}')\n",
        "except TypeError as e:\n",
        "    print(e)"
      ],
      "metadata": {
        "id": "jQ1AkPANVZJV"
      },
      "execution_count": null,
      "outputs": []
    },
    {
      "cell_type": "markdown",
      "source": [
        "### 2.\n",
        "Создайте класс Student для представления студента. Класс должен иметь атрибуты name (имя) и age (возраст), а также метод display_info(), который выводит информацию о студенте. Затем создайте экземпляр класса Student с заданным именем и возрастом и вызовите метод display_info().\n",
        "\n"
      ],
      "metadata": {
        "id": "QDHYIMwzS6Ks"
      }
    },
    {
      "cell_type": "code",
      "source": [
        "class Student:\n",
        "    def __init__(self, name, surname, age):\n",
        "        self.name = name\n",
        "        self.surname = surname\n",
        "        self.age = age\n",
        "\n",
        "    def display_info(self):\n",
        "        print(f\"name_of_student: {self.name}, surname: {self.surname}, age: {self.age}\")\n",
        "\n",
        "name = input(\"Student's name: \")\n",
        "surname = input(\"Student's surname: \")\n",
        "age = int(input(\"Student's age: \"))\n",
        "\n",
        "the_student = Student(name, surname, age)\n",
        "\n",
        "the_student.display_info()"
      ],
      "metadata": {
        "id": "TjI3hW2pT5ws"
      },
      "execution_count": null,
      "outputs": []
    },
    {
      "cell_type": "code",
      "source": [
        "class Student:\n",
        "    def __init__(self, name, age):\n",
        "        if not isinstance(age, int):\n",
        "            raise TypeError('Age must be an integer.')\n",
        "        self.name = name\n",
        "        self.age = age\n",
        "\n",
        "    def display_info(self):\n",
        "        result = f'The student {self.name} is {self.age} years old.'\n",
        "        print(result)\n",
        "        print(result)\n",
        "        print(result)\n",
        "        # print(f'The student {self.name} is {self.age} years old.')\n",
        "\n",
        "    def __str__(self):\n",
        "        result = f'The student {self.name} is {self.age} years old.'\n",
        "        return result\n",
        "        # print(f'The student {self.name} is {self.age} years old.')\n",
        "\n",
        "\n",
        "try:\n",
        "    student1 = Student('John', 25)\n",
        "    # student1.display_info()\n",
        "    print(student1)\n",
        "    print(str(student1))\n",
        "    print(student1.__str__())\n",
        "except TypeError as e:\n",
        "    print(e)"
      ],
      "metadata": {
        "colab": {
          "base_uri": "https://localhost:8080/"
        },
        "id": "4m0NI90rVpFk",
        "outputId": "3de7b911-07d7-4bd5-a82c-126de2fb9115"
      },
      "execution_count": null,
      "outputs": [
        {
          "output_type": "stream",
          "name": "stdout",
          "text": [
            "The student John is 25 years old.\n",
            "The student John is 25 years old.\n",
            "The student John is 25 years old.\n"
          ]
        }
      ]
    }
  ]
}