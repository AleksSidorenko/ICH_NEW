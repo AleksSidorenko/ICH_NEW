{
  "nbformat": 4,
  "nbformat_minor": 0,
  "metadata": {
    "colab": {
      "provenance": []
    },
    "kernelspec": {
      "name": "python3",
      "display_name": "Python 3"
    },
    "language_info": {
      "name": "python"
    }
  },
  "cells": [
    {
      "cell_type": "markdown",
      "source": [
        "## Python fundamentals: Домашнее задание 30 (Python)\n"
      ],
      "metadata": {
        "id": "ZgIK5CKL81lK"
      }
    },
    {
      "cell_type": "markdown",
      "source": [
        "### 1.\n",
        "Создайте класс Rectangle для представления прямоугольника.\n",
        "\n",
        "Класс должен иметь атрибуты width (ширина) и height (высота) со значениями по умолчанию, а также методы calculate_area() для вычисления площади прямоугольника и calculate_perimeter() для вычисления периметра прямоугольника.\n",
        "\n",
        "Переопределить методы __str__, __repr__.\n",
        "\n",
        "Затем создайте экземпляр класса Rectangle и выведите информацию о нем,                           его площадь и периметр.\n",
        "\n"
      ],
      "metadata": {
        "id": "Y8S9mEA089_T"
      }
    },
    {
      "cell_type": "code",
      "source": [
        "class Rectangle:\n",
        "\n",
        "\n",
        "    def __init__(self, width = 5, height = 6):\n",
        "        self.width = width\n",
        "        self.height = height\n",
        "\n",
        "    def __str__(self):\n",
        "        return f\"Rectangle: width {self.width}, height {self.height}\"\n",
        "\n",
        "    def __repr__(self):\n",
        "        return f\"Rectangle: (width={self.width}, height={self.height})\"\n",
        "\n",
        "    def calculate_area(self):\n",
        "        return self.width * self.height\n",
        "\n",
        "    def perimeter(self):\n",
        "        return 2 * (self.width + self.height)\n",
        "\n",
        "\n",
        "width, height = map(float, input(\"Enter width and height of Your rectangle with space: \").split())\n",
        "print(width, height)\n",
        "# user_rectangle = Rectangle(width, height)\n",
        "user_rectangle = Rectangle()\n",
        "print(f\"\\nSquare of Your rectangle is: {user_rectangle.calculate_area()}\")\n",
        "print(f\"Rectangle's perimeter: {user_rectangle.perimeter()}\")\n",
        "print(user_rectangle)\n",
        "print(repr(user_rectangle))"
      ],
      "metadata": {
        "colab": {
          "base_uri": "https://localhost:8080/"
        },
        "id": "lQT8Lb9nAgbQ",
        "outputId": "b367e46f-3f47-46cc-abfb-b64437dd7391"
      },
      "execution_count": null,
      "outputs": [
        {
          "output_type": "stream",
          "name": "stdout",
          "text": [
            "Enter width and height of Your rectangle with space: 3 4\n",
            "3.0 4.0\n",
            "\n",
            "Square of Your rectangle is: 30\n",
            "Rectangle's perimeter: 22\n",
            "Rectangle: width 5, height 6\n",
            "Rectangle: (width=5, height=6)\n"
          ]
        }
      ]
    },
    {
      "cell_type": "markdown",
      "source": [
        "### 2.\n",
        "Создайте класс BankAccount для представления банковского счета. Класс должен иметь атрибуты account_number (номер счета) и balance (баланс), а также методы deposit() для внесения денег на счет и withdraw() для снятия денег со счета. Затем создайте экземпляр класса BankAccount, внесите на счет некоторую сумму и снимите часть денег. Выведите оставшийся баланс. Не забудьте предусмотреть вариант, при котором при снятии баланс может стать меньше нуля. В этом случае уходить в минус не будем, вместо чего будем возвращать сообщение \"Недостаточно средств на счете\".\n",
        "\n"
      ],
      "metadata": {
        "id": "rfsFehDb9DXL"
      }
    },
    {
      "cell_type": "code",
      "source": [
        "class BankAccount:\n",
        "\n",
        "\n",
        "    def __init__(self,account_number, balance):\n",
        "        self.account_number = account_number\n",
        "        self.balance = balance\n",
        "\n",
        "    def deposit(self,amount):\n",
        "        self.balance += amount\n",
        "        return f\"Your account balance is: {self.balance}\"\n",
        "\n",
        "    def withdraw(self,amount):\n",
        "        if amount > self.balance:\n",
        "            raise Exception(\"Insufficient balance\")\n",
        "        self.balance -= amount\n",
        "        return f\"Your account balance is: {self.balance}\"\n",
        "\n",
        "\n",
        "client = BankAccount(12345, 10000)\n",
        "deposit_amount = float(input(\"Enter deposit amount: \"))\n",
        "print(client.deposit(deposit_amount))\n",
        "try:\n",
        "    withdraw_amount = float(input(\"Enter amount to withdraw: \"))\n",
        "    print(client.withdraw(withdraw_amount))\n",
        "except Exception as e:\n",
        "    print(f\"Transaction cannot be completed due to insufficient funds\")\n",
        "print(f\"Your current account balance is: {client.balance}\")\n"
      ],
      "metadata": {
        "colab": {
          "base_uri": "https://localhost:8080/"
        },
        "id": "-iYx14fbA4eM",
        "outputId": "adf1f2b3-f1d2-4c59-bb10-c692568db660"
      },
      "execution_count": null,
      "outputs": [
        {
          "output_type": "stream",
          "name": "stdout",
          "text": [
            "Enter deposit amount: -1000\n",
            "Your account balance is: 9000.0\n",
            "Enter amount to withdraw: -5000\n",
            "Your account balance is: 14000.0\n",
            "Your current account balance is: 14000.0\n"
          ]
        }
      ]
    },
    {
      "cell_type": "code",
      "source": [
        "class BankAccount:\n",
        "    def __init__(self, account_number, balance = 0):\n",
        "        self.balance = balance\n",
        "        self.account_number = account_number\n",
        "\n",
        "\n",
        "    def deposit(self, amount):\n",
        "        self.balance += amount\n",
        "        print(f\"На счет {self.account_number} внесено {amount}. Текущий баланс: {self.balance}\")\n",
        "\n",
        "\n",
        "    def withdraw(self, amount):\n",
        "        if amount > self.balance:\n",
        "            print(\"Недостаточно средств на счете!\")\n",
        "        else:\n",
        "            self.balance -= amount\n",
        "            print(f\"Со счета {self.account_number} снято {amount}. Текущий баланс: {self.balance}\")\n",
        "\n",
        "    def __str__(self):  # Переопределение метода __str__\n",
        "        return f\"BankAccount(account_number={self.account_number}, balance={self.balance})\"\n",
        "\n",
        "    def __repr__(self):  # Переопределение метода __repr__\n",
        "        return f\"BankAccount(account_number={self.account_number!r}, balance={self.balance!r})\"\n",
        "\n",
        "# Создание банковского счета BankAccount\n",
        "my_account = BankAccount(\"123456789\")\n",
        "\n",
        "# Внесение суммы на счёт\n",
        "my_account.deposit(-300)\n",
        "\n",
        "# Снятие суммы со счёта\n",
        "my_account.withdraw(-1000)\n",
        "\n",
        "# Попытка снять больше, чем доступно на счёте\n",
        "my_account.withdraw(1000)\n",
        "\n",
        "# Вывод информации о счёте\n",
        "print(my_account)\n"
      ],
      "metadata": {
        "colab": {
          "base_uri": "https://localhost:8080/"
        },
        "id": "iNlUuOSEBfeG",
        "outputId": "78423729-d642-4405-a005-73eb16d059c4"
      },
      "execution_count": null,
      "outputs": [
        {
          "output_type": "stream",
          "name": "stdout",
          "text": [
            "На счет 123456789 внесено -300. Текущий баланс: -300\n",
            "Со счета 123456789 снято -1000. Текущий баланс: 700\n",
            "Недостаточно средств на счете!\n",
            "BankAccount(account_number=123456789, balance=700)\n"
          ]
        }
      ]
    },
    {
      "cell_type": "code",
      "source": [
        "class BankAccount:\n",
        "    species = 'Client account information'\n",
        "\n",
        "    def __init__(self, account_number, balance):\n",
        "        if not isinstance(balance, (int, float)) or balance < 0:\n",
        "            raise TypeError('Amount must be more than 0')\n",
        "        self.__account_number = account_number\n",
        "        self.__balance = balance\n",
        "        self._transactions_list = []\n",
        "\n",
        "    def check_balance(self):\n",
        "        return self.__balance\n",
        "\n",
        "    def deposit(self, deposit_amount):\n",
        "        if not isinstance(deposit_amount, (int, float)) or deposit_amount <= 0:\n",
        "            raise TypeError('Amount must be more than 0')\n",
        "        self.__balance += deposit_amount\n",
        "        self._transactions_list.append(f'Deposit {deposit_amount}.')\n",
        "\n",
        "    def withdraw(self, withdraw_amount):\n",
        "        if not isinstance(withdraw_amount, (int, float)) or withdraw_amount <= 0:\n",
        "            raise TypeError('Amount must be more than 0')\n",
        "        if self.__balance > withdraw_amount:\n",
        "            self.__balance -= withdraw_amount\n",
        "            self._transactions_list.append(f'Withdraw {withdraw_amount}.')\n",
        "        else:\n",
        "            print('You do not have enough funds to withdraw.')\n",
        "\n",
        "    def print_transactions(self):\n",
        "        print(f'\\nTransactions:')\n",
        "        for transaction in self._transactions_list:\n",
        "            print(transaction)\n",
        "\n",
        "\n",
        "try:\n",
        "    Client1 = BankAccount(account_number = 'BA 1001', balance = 100)\n",
        "    print(f'Your balance: {Client1.check_balance()}')\n",
        "    Client1.deposit(200)\n",
        "    print(f'Your balance: {Client1.check_balance()}')\n",
        "    Client1.withdraw(100)\n",
        "    print(f'Your balance: {Client1.check_balance()}')\n",
        "    Client1.print_transactions()\n",
        "except TypeError as e:\n",
        "    print(e)"
      ],
      "metadata": {
        "colab": {
          "base_uri": "https://localhost:8080/"
        },
        "id": "nqnS3Cz1Ch1H",
        "outputId": "5ba754c5-8b75-4f52-fe98-923481dd9886"
      },
      "execution_count": null,
      "outputs": [
        {
          "output_type": "stream",
          "name": "stdout",
          "text": [
            "Your balance: 100\n",
            "Your balance: 300\n",
            "Your balance: 200\n",
            "\n",
            "Transactions:\n",
            "Deposit 200.\n",
            "Withdraw 100.\n"
          ]
        }
      ]
    },
    {
      "cell_type": "code",
      "source": [
        "class BankAccount:\n",
        "\n",
        "    def __init__(self, account_number, balance=0):\n",
        "        self.__account_number = account_number\n",
        "        self.__balance = balance\n",
        "\n",
        "    def deposit(self, cash):\n",
        "        self.__balance += cash\n",
        "        return f\"Баланс пополнен на {cash}.Текущий баланс:{self.__balance}\"\n",
        "\n",
        "    def withdraw(self, cash):\n",
        "        if self.__balance >= cash:\n",
        "            self.__balance -= cash\n",
        "            return f\"Снятие со счета на сумму {cash}. Текущий баланс: {self.__balance}\"\n",
        "        return f\"Недостаточно средств на счете\"\n",
        "\n",
        "    def get_account_balance(self):\n",
        "        return f\"Текущий баланс: {self.__balance}\"\n",
        "\n",
        "    def get_account_info(self):\n",
        "        return f\"Номер счета: {self.__account_number}, Баланс: {self.__balance}\"\n",
        "\n",
        "\n",
        "account = BankAccount(1009898070, 500)\n",
        "print(account.get_account_info())\n",
        "print(account.deposit(1000))\n",
        "print(account.withdraw(100))\n",
        "print(account.withdraw(1500))\n",
        "print(account.get_account_balance())"
      ],
      "metadata": {
        "colab": {
          "base_uri": "https://localhost:8080/"
        },
        "id": "fwXiD0jbGSqX",
        "outputId": "ae532d65-0ee4-4839-cfb1-834246c49a1c"
      },
      "execution_count": null,
      "outputs": [
        {
          "output_type": "stream",
          "name": "stdout",
          "text": [
            "Номер счета: 1009898070, Баланс: 500\n",
            "Баланс пополнен на 1000.Текущий баланс:1500\n",
            "Снятие со счета на сумму 100. Текущий баланс: 1400\n",
            "Недостаточно средств на счете\n",
            "Текущий баланс: 1400\n"
          ]
        }
      ]
    },
    {
      "cell_type": "code",
      "source": [
        "class BankAccount:\n",
        "\n",
        "    def __init__(self):\n",
        "        self.account_number = 735562\n",
        "        self.balance = 1000\n",
        "\n",
        "\n",
        "    def deposit(self, dep_ammount):\n",
        "        print(f\"peeep.....peeeep....  {dep_ammount}$ have been added to your account\")\n",
        "        self.balance += dep_ammount\n",
        "        self.check_balance()\n",
        "\n",
        "\n",
        "    def withdraw(self, withdraw_ammount):\n",
        "        if self.balance - withdraw_ammount < 0:\n",
        "            print(\"Insufficient Funds\")\n",
        "            raise ValueError(\"Withdrawal amount exceeds available balance.\")\n",
        "        self.balance -= withdraw_ammount\n",
        "        print(f\"peeeep....peeeep... {withdraw_ammount}$ have been withdrawn from your account\")\n",
        "        self.check_balance()\n",
        "\n",
        "\n",
        "    def check_balance(self):\n",
        "        print(f\"your current balance is: {self.balance}\")\n",
        "\n",
        "my_acc = BankAccount()\n",
        "try:\n",
        "    my_acc.withdraw(2800)\n",
        "except ValueError as e:\n",
        "    print(e)\n",
        "my_acc.deposit(3798)"
      ],
      "metadata": {
        "colab": {
          "base_uri": "https://localhost:8080/"
        },
        "id": "3jnhADGdHz7-",
        "outputId": "b2ffe5f4-c1d1-4b36-f673-e60540dddf3d"
      },
      "execution_count": null,
      "outputs": [
        {
          "output_type": "stream",
          "name": "stdout",
          "text": [
            "Insufficient Funds\n",
            "Withdrawal amount exceeds available balance.\n",
            "peeep.....peeeep....  3798$ have been added to your account\n",
            "your current balance is: 4798\n"
          ]
        }
      ]
    },
    {
      "cell_type": "markdown",
      "source": [
        "## Python fundamentals: Домашнее задание 31 (Python)\n"
      ],
      "metadata": {
        "id": "9O9-ZDre-Aap"
      }
    },
    {
      "cell_type": "markdown",
      "source": [
        "### 1.\n",
        "Напишите декоратор validate_args, который будет проверять типы аргументов функции и выводить сообщение об ошибке, если переданы аргументы неправильного типа. Декоратор должен принимать ожидаемые типы аргументов в качестве параметров.\n",
        "\n",
        "\n",
        "Пример использования:\n",
        "\n",
        "```\n",
        "@validate_args(int, str)\n",
        "\n",
        "def greet(age, name):\n",
        "\n",
        "    print(f\"Привет, {name}! Тебе {age} лет.\")\n",
        "\n",
        "\n",
        "greet(25, \"Анна\")  # Все аргументы имеют правильные типы\n",
        "\n",
        "greet(\"25\", \"Анна\")  # Возникнет исключение TypeError\n",
        "```\n",
        "\n",
        "Ожидаемый вывод:\n",
        "\n",
        "\n",
        "Привет, Анна! Тебе 25 лет.\n",
        "\n",
        "TypeError: Аргумент 25 имеет неправильный тип <class 'str'>. Ожидается <class 'int'>.\n",
        "\n"
      ],
      "metadata": {
        "id": "5eYO7JXv-DSS"
      }
    },
    {
      "cell_type": "code",
      "source": [
        "def validate_args(*types):\n",
        "    def decorator(func):\n",
        "        def wrapper(*args):\n",
        "            # print(\"*\" * 30)\n",
        "            print(\"zip\", list(zip(args, types)))\n",
        "            for arg, expected_type in zip(args, types):\n",
        "                if not isinstance(arg, expected_type):\n",
        "                    raise TypeError(f\"Аргумент {arg} имеет неправильный тип {type(arg)}. Ожидается {expected_type}\")\n",
        "            res = func(*args)\n",
        "            # print(\"*\" * 30)\n",
        "            return res\n",
        "\n",
        "        return wrapper\n",
        "\n",
        "    return decorator\n",
        "\n",
        "\n",
        "@validate_args(int, str)\n",
        "def greet(age, name):\n",
        "    print(f\"Привет, {name}! Тебе {age} лет.\")\n",
        "\n",
        "@validate_args(str)\n",
        "def greet2(name):\n",
        "    print(f\"Привет, {name}!\")\n",
        "\n",
        "\n",
        "greet(25, \"Анна\")\n",
        "greet(30, \"Антон\")\n",
        "# greet([1, 2], \"Анна\")\n",
        "# greet('25', \"Анна\")\n",
        "\n",
        "greet2(\"Анна\")\n"
      ],
      "metadata": {
        "colab": {
          "base_uri": "https://localhost:8080/"
        },
        "id": "P7Zcj5Y4OOtK",
        "outputId": "7795a739-c9c6-45bd-e074-75482befab75"
      },
      "execution_count": null,
      "outputs": [
        {
          "output_type": "stream",
          "name": "stdout",
          "text": [
            "zip [(25, <class 'int'>), ('Анна', <class 'str'>)]\n",
            "Привет, Анна! Тебе 25 лет.\n",
            "zip [(30, <class 'int'>), ('Антон', <class 'str'>)]\n",
            "Привет, Антон! Тебе 30 лет.\n",
            "zip [('Анна', <class 'str'>)]\n",
            "Привет, Анна!\n"
          ]
        }
      ]
    },
    {
      "cell_type": "code",
      "source": [
        "# Определение декоратора, который принимает ожидаемые типы как аргументы\n",
        "def validate_args(*expected_types):\n",
        "    # Эта функция — сам декоратор\n",
        "    def decorator(func):\n",
        "        # Это обёртка, которая будет проверять аргументы перед вызовом функции\n",
        "        def wrapper(*args):\n",
        "            # Проходим по всем аргументам и соответствующим ожидаемым типам\n",
        "            for i, (arg, expected_type) in enumerate(zip(args, expected_types)):\n",
        "                # Если тип аргумента не совпадает с ожидаемым\n",
        "                if not isinstance(arg, expected_type):\n",
        "                    # Выводим ошибку и вызываем исключение TypeError\n",
        "                    raise TypeError(f\"Аргумент {arg} имеет неправильный тип {type(arg)}. Ожидается {expected_type}.\")\n",
        "            # Если всё ок — вызываем оригинальную функцию\n",
        "            return func(*args)\n",
        "        return wrapper\n",
        "    return decorator\n",
        "\n",
        "\n",
        "# Использование декоратора\n",
        "@validate_args(int, str)  # Ожидаем: первый аргумент — int, второй — str\n",
        "def greet(age, name):\n",
        "    print(f\"Привет, {name}! Тебе {age} лет.\")\n",
        "\n",
        "@validate_args(str)  # Ожидаем: первый аргумент — int, второй — str\n",
        "def greet2(name):\n",
        "    print(f\"Привет, {name}!\")\n",
        "\n",
        "\n",
        "# Тест: правильные типы\n",
        "greet(25, \"Анна\")  # Всё хорошо, выведет: Привет, Анна! Тебе 25 лет.\n",
        "greet2(\"Анна\")\n",
        "\n",
        "# # Тест: неправильный тип (возникнет ошибка)\n",
        "# greet(\"25\", \"Анна\")  # Ошибка: первый аргумент — строка, а должен быть int"
      ],
      "metadata": {
        "colab": {
          "base_uri": "https://localhost:8080/"
        },
        "id": "WtGJ8IjG-ICo",
        "outputId": "c0daee65-e9c2-444a-cde9-f656ba726cc0"
      },
      "execution_count": null,
      "outputs": [
        {
          "output_type": "stream",
          "name": "stdout",
          "text": [
            "Привет, Анна! Тебе 25 лет.\n",
            "Привет, Анна!\n"
          ]
        }
      ]
    },
    {
      "cell_type": "code",
      "source": [
        "def validate_args(inp_int,inp_str) :\n",
        "    def decorator(func) :\n",
        "        def wrapper(*args,**kwargs):\n",
        "            try:\n",
        "                if not isinstance(args[0],inp_int) :\n",
        "                    raise TypeError(f\"Аргумент {args[0]} имеет неправильный тип {type(args[0])}. Ожидается {inp_int}.\")\n",
        "                if not isinstance(args[1],inp_str) :\n",
        "                    raise TypeError(f\"Аргумент {args[1]} имеет неправильный тип {type(args[1])}. Ожидается {inp_str}.\")\n",
        "            except TypeError as e :\n",
        "                return e\n",
        "            return func(*args,**kwargs)\n",
        "        return  wrapper\n",
        "    return decorator\n",
        "\n",
        "\n",
        "@validate_args(int,str)\n",
        "def greet(age, name):\n",
        "     return f\"Привет, {name}! Тебе {age} лет.\"\n",
        "\n",
        "print(print_task_number(1))\n",
        "print(greet('25', \"Анна\"))"
      ],
      "metadata": {
        "id": "H7yUJDmdPgti"
      },
      "execution_count": null,
      "outputs": []
    },
    {
      "cell_type": "markdown",
      "source": [
        "### 2.\n",
        "Напишите декоратор log_args, который будет записывать аргументы и результаты вызовов функции в лог-файл. Каждый вызов функции должен быть записан на новой строке в формате \"Аргументы: <аргументы>, Результат: <результат>\". Используйте модуль logging для записи в лог-файл.\n",
        "\n",
        "\n",
        "\n",
        "Пример использования:\n",
        "\n",
        "\n",
        "```python\n",
        "\n",
        "@log_args\n",
        "\n",
        "def add(a, b):\n",
        "\n",
        "    return a + b\n",
        "\n",
        "\n",
        "add(2, 3)\n",
        "\n",
        "add(5, 7)\n",
        "```\n",
        "\n",
        "Ожидаемый вывод в файле log.txt:\n",
        "\n",
        "\n",
        "Аргументы: 2, 3, Результат: 5\n",
        "\n",
        "Аргументы: 5, 7, Результат: 12\n",
        "\n",
        "\n",
        "Убедитесь, что перед запуском кода у вас создан файл log.txt в той же директории, где находится скрипт Python.\n",
        "\n"
      ],
      "metadata": {
        "id": "7uEBGF2J-Ged"
      }
    },
    {
      "cell_type": "code",
      "source": [
        "import logging\n",
        "\n",
        "\n",
        "def log_args(func):\n",
        "    def wrapper(*args):\n",
        "        # Настройка логирования уровня info\n",
        "        logging.basicConfig(filename=\"log.txt\",\n",
        "                            format=\"%(asctime)s - %(filename)s - %(lineno)d - %(levelname)s - %(message)s\",\n",
        "                            level=logging.INFO,\n",
        "                            encoding=\"utf-8\"\n",
        "                            )\n",
        "        res = func(*args)\n",
        "        logging.info(f\"Аргументы: {args}. Результат: {res}\")\n",
        "        return res\n",
        "\n",
        "    return wrapper\n",
        "\n",
        "\n",
        "@log_args\n",
        "def add(a, b):\n",
        "    return a + b\n",
        "\n",
        "\n",
        "print(add(2, 3))\n",
        "print(add(5, 7))\n"
      ],
      "metadata": {
        "id": "Mdn_eqgEOiZT"
      },
      "execution_count": null,
      "outputs": []
    },
    {
      "cell_type": "code",
      "source": [
        "import logging\n",
        "\n",
        "# Настройка логирования: запись в файл HW_31_log.txt, режим дозаписи\n",
        "logging.basicConfig(\n",
        "    filename='HW_31_log.txt',      # имя файла\n",
        "    level=logging.INFO,      # уровень логирования\n",
        "    format='%(message)s'     # только сообщение (без даты и уровня)\n",
        ")\n",
        "\n",
        "# Декоратор log_args\n",
        "def log_args(func):\n",
        "    def wrapper(*args, **kwargs):\n",
        "        result = func(*args, **kwargs)  # вызываем оригинальную функцию\n",
        "        # Формируем строку для лога\n",
        "        arg_str = ', '.join(map(str, args))\n",
        "        log_line = f\"Аргументы: {arg_str}, Результат: {result}\"\n",
        "        logging.info(log_line)  # записываем строку в лог-файл\n",
        "        return result  # возвращаем результат вызова функции\n",
        "    return wrapper\n",
        "\n",
        "# Пример функции с декоратором\n",
        "@log_args\n",
        "def add(a, b):\n",
        "    return a + b\n",
        "\n",
        "# Тестовые вызовы\n",
        "add(2, 3)\n",
        "add(5, 7)\n"
      ],
      "metadata": {
        "colab": {
          "base_uri": "https://localhost:8080/"
        },
        "id": "Lm38vTZp-InL",
        "outputId": "bf38ad3b-0b81-4e42-9272-8ac189fa9be7"
      },
      "execution_count": null,
      "outputs": [
        {
          "output_type": "execute_result",
          "data": {
            "text/plain": [
              "12"
            ]
          },
          "metadata": {},
          "execution_count": 39
        }
      ]
    },
    {
      "cell_type": "markdown",
      "source": [
        "## ---"
      ],
      "metadata": {
        "id": "DPPqd_YJ-uoh"
      }
    },
    {
      "cell_type": "code",
      "source": [
        "class Student:\n",
        "    '''\n",
        "    Students registration.\n",
        "\n",
        "    Adding student name, age, grades. Calculate average grade.\n",
        "    '''\n",
        "    species = 'Student information'\n",
        "\n",
        "    def __init__(self, name, age):\n",
        "        if not isinstance(name, str):\n",
        "            raise TypeError('Wrong input. Name must be a string')\n",
        "        if not isinstance(age, int):\n",
        "            raise TypeError('Wrong input. Age must be an integer')\n",
        "        if age < 16:\n",
        "            raise ValueError('Age must be at least 16')\n",
        "\n",
        "        self.__name = name\n",
        "        self.__age = age\n",
        "        self.__grades = []\n",
        "\n",
        "    def __str__(self):\n",
        "        return f'Student name: {self.__name}, Age: {self.__age}'\n",
        "\n",
        "    def __repr__(self):\n",
        "        return f'Student name: {self.__name!r}, Age: {self.__age!r}, Grades: {self.__grades!r}'\n",
        "\n",
        "    def get_name(self):\n",
        "        return self.__name\n",
        "\n",
        "    def get_age(self):\n",
        "        return self.__age\n",
        "\n",
        "    def set_name(self, new_name):\n",
        "        if isinstance(new_name, str):\n",
        "            self.__name = new_name\n",
        "        else:\n",
        "            raise TypeError('Wrong input. Name must be a string.')\n",
        "\n",
        "    def set_age(self, new_age):\n",
        "        if not isinstance(new_age, int):\n",
        "            raise TypeError('Wrong input. Age must be an integer')\n",
        "        if not 16 <= new_age <= 80:\n",
        "            raise ValueError('Wrong input. Age must be between 16 and 80.')\n",
        "\n",
        "        self.__age = new_age\n",
        "\n",
        "\n",
        "    def get_grades(self):\n",
        "        if self.__grades:\n",
        "            return self.__grades.copy()\n",
        "\n",
        "    def add_grade(self, grade):\n",
        "        if not isinstance(grade, int):\n",
        "            raise TypeError('Wrong input. Grade must be an integer')\n",
        "        if not 1 <= grade <= 5:\n",
        "            raise ValueError('Wrong input. Grade must be between 1 and 5.')\n",
        "        self.__grades.append(grade)\n",
        "\n",
        "    def get_average_grade(self):\n",
        "        if self.__grades:\n",
        "            return round(sum(self.__grades) / len(self.__grades), 2)\n",
        "\n",
        "try:\n",
        "    student1 = Student(\"Alex\", 18)\n",
        "\n",
        "    print(f'Student name: {student1.get_name()}')\n",
        "    print(f'Student age: {student1.get_age()}')\n",
        "\n",
        "    student1.add_grade(5)\n",
        "    student1.add_grade(3)\n",
        "    student1.add_grade(4)\n",
        "\n",
        "    print(repr(student1))\n",
        "    print(f'Student grades: {student1.get_grades()}')\n",
        "    print(f'Student average grade is: {student1.get_average_grade()}')\n",
        "\n",
        "    student1.set_age(15)\n",
        "\n",
        "except TypeError as e:\n",
        "    print(e)\n",
        "except ValueError as e:\n",
        "    print(e)\n"
      ],
      "metadata": {
        "id": "hu7FMbZf-1w4"
      },
      "execution_count": null,
      "outputs": []
    }
  ]
}