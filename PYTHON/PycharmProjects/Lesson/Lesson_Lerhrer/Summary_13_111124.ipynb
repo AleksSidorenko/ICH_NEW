{
 "nbformat": 4,
 "nbformat_minor": 0,
 "metadata": {
  "colab": {
   "provenance": []
  },
  "kernelspec": {
   "name": "python3",
   "display_name": "Python 3 (ipykernel)",
   "language": "python"
  },
  "language_info": {
   "name": "python"
  }
 },
 "cells": [
  {
   "cell_type": "markdown",
   "source": [
    "## Python fundamentals: Домашнее задание 26 (Python)\n"
   ],
   "metadata": {
    "id": "MO-N-SDNl84D"
   }
  },
  {
   "cell_type": "markdown",
   "source": [
    "### 1.\n",
    "Напишите программу, которая принимает в качестве аргумента командной строки путь к файлу .py и запускает его. При запуске файла программа должна выводить сообщение \"Файл <имя файла> успешно запущен\". Если файл не существует или не может быть запущен, программа должна вывести соответствующее сообщение об ошибке.\n"
   ],
   "metadata": {
    "id": "k1h6C0mVl7ld"
   }
  },
  {
   "cell_type": "code",
   "execution_count": null,
   "metadata": {
    "id": "nl6keVtml1Jp"
   },
   "outputs": [],
   "source": [
    "import sys\n",
    "import os\n",
    "\n",
    "args = sys.argv\n",
    "if os.path.exists(args[1]):\n",
    "    if os.path.isfile(args[1]):\n",
    "        if args[1][-3:] == \".py\":\n",
    "            os.system(f'python {args[1]}')\n",
    "            print(f'Файл {args[1]} успешно запущен')\n",
    "        else:\n",
    "            print('Файл не имеет расширения .py ')\n",
    "    else:\n",
    "            print('Это не файл ')\n",
    "else:\n",
    "    print(f'Файла {args[1]} не существует ')"
   ]
  },
  {
   "cell_type": "code",
   "source": [
    "import sys\n",
    "import os\n",
    "\n",
    "if len(sys.argv) != 2:  # количество аргументов вводимых в командной строке\n",
    "    print(f\"Использование: python script_runner.py <directory>/<name_file.py>\")\n",
    "else:\n",
    "    file_path = sys.argv[1]\n",
    "    if os.path.isfile(file_path) and file_path.endswith(\".py\"):\n",
    "        try:\n",
    "            exec(open(file_path).read())\n",
    "            print(f\"Файл {file_path} успешно запущен.\")\n",
    "        except Exception as e:\n",
    "            print(f\"Ошибка при выполнении файла {file_path}: {e}\")\n",
    "    else:\n",
    "        print(f\"Ошибка: Файл {file_path} не существует.\")"
   ],
   "metadata": {
    "id": "r382mS5Pzptc",
    "ExecuteTime": {
     "end_time": "2025-03-09T14:32:16.945055Z",
     "start_time": "2025-03-09T14:32:16.922507Z"
    }
   },
   "outputs": [
    {
     "name": "stdout",
     "output_type": "stream",
     "text": [
      "Использование: python script_runner.py <directory>/<name_file.py>\n"
     ]
    }
   ],
   "execution_count": 1
  },
  {
   "cell_type": "code",
   "source": [
    "import argparse\n",
    "import runpy\n",
    "\n",
    "parser = argparse.ArgumentParser(description=\"Running Python-script\")\n",
    "parser.add_argument(\"--run\", help=\"Path to file .py\", required=True)\n",
    "args = parser.parse_args()\n",
    "\n",
    "try:\n",
    "    runpy.run_path(args.run)\n",
    "    print(f'Файл {args.run} успешно запущен.')\n",
    "except FileNotFoundError:\n",
    "    print(f\"Ошибка: Файл {args.run} не найден.\")\n",
    "except Exception as e:\n",
    "    print(f'Ошибка при выполнении файла {e}')"
   ],
   "metadata": {
    "id": "efo9b4jK0Btx"
   },
   "execution_count": null,
   "outputs": []
  },
  {
   "cell_type": "markdown",
   "source": [
    "### 2.\n",
    "Напишите программу, которая принимает в качестве аргумента командной строки путь к директории и выводит список всех файлов и поддиректорий внутри этой директории. Для этой задачи используйте модуль os и его функцию walk. Программа должна выводить полный путь к каждому файлу и директории."
   ],
   "metadata": {
    "id": "Tv14rv4umA90"
   }
  },
  {
   "cell_type": "code",
   "source": [
    "import sys\n",
    "import os\n",
    "\n",
    "args = sys.argv\n",
    "os.chdir(args[1])\n",
    "cur_dir = os.getcwd()\n",
    "\n",
    "if os.path.exists(cur_dir ):\n",
    "    if os.path.isdir(cur_dir ):\n",
    "        for root, dirs, files in os.walk(cur_dir):\n",
    "            for dir_ in dirs :\n",
    "                print(os.path.join(root,dir_))\n",
    "            for file in files :\n",
    "                print(os.path.join(root, file))\n",
    "    else :\n",
    "        print('Это не каталог ')\n",
    "else :\n",
    "    print('Такого пути не существует ')"
   ],
   "metadata": {
    "id": "VSMx5zgdmadf"
   },
   "execution_count": null,
   "outputs": []
  },
  {
   "cell_type": "code",
   "source": [
    "import os\n",
    "import sys\n",
    "\n",
    "def list_files_and_directories(directory):\n",
    "    for root, dirs, files in os.walk(directory):\n",
    "        for dir_name in dirs:\n",
    "            print(os.path.join(root, dir_name))\n",
    "        for file_name in files:\n",
    "            print(os.path.join(root, file_name))\n",
    "\n",
    "if len(sys.argv) != 2:\n",
    "    print(\"Использование: python script_walk.py <путь к директории>\")\n",
    "else:\n",
    "    directory = sys.argv[1]\n",
    "    directory = os.path.abspath(directory)\n",
    "    if os.path.isdir(directory):\n",
    "        list_files_and_directories(directory)\n",
    "    else:\n",
    "        print(f\"Ошибка: {directory} не является директорией или не существует.\")\n"
   ],
   "metadata": {
    "id": "f8INsqJAzzoI"
   },
   "execution_count": null,
   "outputs": []
  },
  {
   "cell_type": "markdown",
   "source": [
    "## Python fundamentals: Домашнее задание 27 (Python)\n"
   ],
   "metadata": {
    "id": "A6_Q3a1p0cS-"
   }
  },
  {
   "cell_type": "markdown",
   "source": [
    "### 1.\n",
    "Напишите функцию, которая принимает на вход список чисел и возвращает сумму квадратов только четных чисел из списка, используя функциональные подходы (например, map, filter и reduce).\n",
    "\n",
    "\n",
    "Пример вывода:\n",
    "\n",
    "Введите числа: 4, 6, 3, 4, 2, 3, 9, 0, 7\n",
    "\n",
    "Результат: 72"
   ],
   "metadata": {
    "id": "bIcfnxf-0eG9"
   }
  },
  {
   "cell_type": "code",
   "source": [
    "from functools import reduce\n",
    "\n",
    "def sum_of_squares_of_evens(numbers):\n",
    "    return reduce(lambda acc, x: acc + x,\n",
    "                  map(lambda x: x**2,\n",
    "                      filter(lambda x: x % 2 == 0, numbers)), 0)\n",
    "\n",
    "numbers = [0, 8, 3, 7, 5, 1]\n",
    "result = sum_of_squares_of_evens(numbers)\n",
    "print(f\"Sum of squares of even numbers: {result}\")"
   ],
   "metadata": {
    "colab": {
     "base_uri": "https://localhost:8080/"
    },
    "id": "1I_Jdm60avBf",
    "outputId": "4cd0d605-54c6-4626-b6e2-0597d5828aef"
   },
   "execution_count": null,
   "outputs": [
    {
     "output_type": "stream",
     "name": "stdout",
     "text": [
      "Sum of squares of even numbers: 64\n"
     ]
    }
   ]
  },
  {
   "cell_type": "code",
   "source": [
    "your_num = list(map(int, input(\"Введите числа через пробел: \").split()))\n",
    "your_num = [4, 6, 3, 4, 2, 3, 9, 0, 7]\n",
    "\n",
    "def sum_quad(numbers):\n",
    "\n",
    "    even_num = filter(lambda x: x % 2 == 0, numbers)\n",
    "    return sum(map(lambda x: x ** 2, even_num))\n",
    "\n",
    "print(\"\\nРезультат:\", sum_quad(your_num))"
   ],
   "metadata": {
    "colab": {
     "base_uri": "https://localhost:8080/"
    },
    "id": "TwKh0LoIbZcY",
    "outputId": "94eb4d58-91f5-4d3f-ce7e-2a37288a1397"
   },
   "execution_count": null,
   "outputs": [
    {
     "output_type": "stream",
     "name": "stdout",
     "text": [
      "\n",
      "Результат: 72\n"
     ]
    }
   ]
  },
  {
   "cell_type": "code",
   "source": [
    "from functools import reduce\n",
    "\n",
    "numbers = [4, 6, 3, 4, 2, 3, 9, 0, 7]\n",
    "# numbers = [10, 3, 4, 2, 3, 9, 0, 7]\n",
    "# numbers = [13, 4, 2, 3, 9, 0, 7]\n",
    "# numbers = [17, 2, 3, 9, 0, 7]\n",
    "squared = map(lambda x: x ** 2, numbers)\n",
    "squared = list(squared)\n",
    "print(squared)\n",
    "\n",
    "even_squared = filter(lambda x: x % 2 == 0, squared)\n",
    "even_squared = list(even_squared)\n",
    "print(even_squared)\n",
    "\n",
    "even_squared_sum = reduce(lambda x, y: x + y, even_squared)\n",
    "print(even_squared_sum)"
   ],
   "metadata": {
    "colab": {
     "base_uri": "https://localhost:8080/"
    },
    "id": "W7wBbWX7cPNI",
    "outputId": "099f5118-5cab-46c8-c27d-8383eef628f8"
   },
   "execution_count": null,
   "outputs": [
    {
     "output_type": "stream",
     "name": "stdout",
     "text": [
      "[16, 36, 9, 16, 4, 9, 81, 0, 49]\n",
      "[16, 36, 16, 4, 0]\n",
      "72\n"
     ]
    }
   ]
  },
  {
   "cell_type": "markdown",
   "source": [
    "### 2.\n",
    "Напишите функцию, которая принимает на вход список функций и значение, а затем применяет композицию этих функций к значению, возвращая конечный результат.\n",
    "\n",
    "\n",
    "Пример использования:\n",
    "\n",
    "add_one = lambda x: x + 1\n",
    "\n",
    "double = lambda x: x * 2\n",
    "\n",
    "subtract_three = lambda x: x - 3\n",
    "\n",
    "\n",
    "functions = [add_one, double, subtract_three]\n",
    "\n",
    "compose_functions(functions, 5) должно вывести 9"
   ],
   "metadata": {
    "id": "9Hb__22c0htS"
   }
  },
  {
   "cell_type": "code",
   "source": [
    "from functools import reduce\n",
    "\n",
    "def apply_functions(func_list, value):\n",
    "    return reduce(lambda acc, func: func(acc), func_list, value)\n",
    "\n",
    "def double(x):\n",
    "    return x * 2\n",
    "\n",
    "def increment(x):\n",
    "    return x + 3\n",
    "\n",
    "def square(x):\n",
    "    return x ** 2\n",
    "\n",
    "functions = [double, increment, square]\n",
    "result = apply_functions(functions, 2)\n",
    "print(f\"resulte: {result}\")\n"
   ],
   "metadata": {
    "colab": {
     "base_uri": "https://localhost:8080/"
    },
    "id": "T58L4sO1bCrx",
    "outputId": "dd0f9a63-2fb0-43f3-ffca-7ab9bcb5e1fd"
   },
   "execution_count": null,
   "outputs": [
    {
     "output_type": "stream",
     "name": "stdout",
     "text": [
      "resulte: 49\n"
     ]
    }
   ]
  },
  {
   "cell_type": "code",
   "source": [
    "from functools import reduce\n",
    "add_one = lambda x: x + 1\n",
    "double = lambda x: x * 2\n",
    "subtract_three = lambda x: x - 3\n",
    "\n",
    "def compose_functions(all_functions, number):\n",
    "\n",
    "    return reduce(lambda x, y: y(x),  all_functions, number)\n",
    "\n",
    "    # a = all_functions[0](number)\n",
    "    # b = all_functions[1](a)\n",
    "    # c = all_functions[2](b)\n",
    "    # print(c)\n",
    "\n",
    "functions = [add_one, double, subtract_three]\n",
    "print(\"\\nРезультат композиции:\", compose_functions(functions, 5))"
   ],
   "metadata": {
    "id": "lYcW3bgvbv7z"
   },
   "execution_count": null,
   "outputs": []
  },
  {
   "cell_type": "code",
   "source": [
    "def compose_functions(functions, value):\n",
    "    result = value  # 5 -> 6 -> 12 -> 9\n",
    "    for func in functions:\n",
    "        result = func(result)\n",
    "    return result\n",
    "\n",
    "add_one = lambda x: x + 1\n",
    "double = lambda x: x * 2\n",
    "subtract_three = lambda x: x - 3\n",
    "\n",
    "functions = [add_one, double, subtract_three]\n",
    "print(compose_functions(functions, 5))"
   ],
   "metadata": {
    "colab": {
     "base_uri": "https://localhost:8080/"
    },
    "id": "TwANRYGvcaFn",
    "outputId": "2a85164a-e251-4804-e40c-2f9c83d9c619"
   },
   "execution_count": null,
   "outputs": [
    {
     "output_type": "stream",
     "name": "stdout",
     "text": [
      "9\n"
     ]
    }
   ]
  },
  {
   "cell_type": "code",
   "source": [
    "def compose_functions(list_functions: list, x: int) -> int:\n",
    "    \"\"\"Выводит композицию из функций\"\"\"\n",
    "    for function in list_functions:\n",
    "        x = function(x)\n",
    "    return x\n",
    "\n",
    "\n",
    "add_one = lambda x: x + 1\n",
    "double = lambda x: x * 2\n",
    "subtract_three = lambda x: x - 3\n",
    "functions = [add_one, double, subtract_three]\n",
    "print(compose_functions(functions, 5))"
   ],
   "metadata": {
    "colab": {
     "base_uri": "https://localhost:8080/"
    },
    "id": "KP5O5D6ycvQF",
    "outputId": "34df8b4c-2197-4276-a70b-99188463dc05"
   },
   "execution_count": null,
   "outputs": [
    {
     "output_type": "stream",
     "name": "stdout",
     "text": [
      "9\n"
     ]
    }
   ]
  },
  {
   "cell_type": "code",
   "source": [
    "# 2\n",
    "def compose(*functions):\n",
    "    \"\"\"\n",
    "        Композиция любого количества функций.\n",
    "\n",
    "        - Принимает:    любое количество функций.\n",
    "        - Возвращает:   новую функцию, которая применяет их последовательно, справа налево.\n",
    "    \"\"\"\n",
    "    return reduce(lambda f, g: lambda x: f(g(x)), functions)\n",
    "\n",
    "\n",
    "def add_one(x: int) -> int:\n",
    "    \"\"\"\n",
    "        Добавляет единицу к числу.\n",
    "    \"\"\"\n",
    "    return x + 1\n",
    "\n",
    "\n",
    "def subtract_three(x: int) -> int:\n",
    "    \"\"\"\n",
    "        Вычитает три из числа.\n",
    "    \"\"\"\n",
    "    return x - 3\n",
    "\n",
    "\n",
    "def double(x: int) -> int:\n",
    "    \"\"\"\n",
    "        Умножает число на два.\n",
    "    \"\"\"\n",
    "    return x * 2\n",
    "\n",
    "\n",
    "\n",
    "# 2 *не совсем так как в примере, но по моему так на порядок прикольнее - сломал голову этим концептом.\n",
    "functions_list = [subtract_three, double, add_one]\n",
    "composed_function = compose(*functions_list)\n",
    "\n",
    "result = composed_function(5)\n",
    "print(result)"
   ],
   "metadata": {
    "colab": {
     "base_uri": "https://localhost:8080/"
    },
    "id": "jgik9KOedVHa",
    "outputId": "eb6b6af5-86c1-40b2-a327-7ef568c6bc0d"
   },
   "execution_count": null,
   "outputs": [
    {
     "output_type": "stream",
     "name": "stdout",
     "text": [
      "9\n"
     ]
    }
   ]
  },
  {
   "cell_type": "markdown",
   "source": [
    "## Python fundamentals: Домашнее задание 28 (Python)\n"
   ],
   "metadata": {
    "id": "TGdKIwl2fUun"
   }
  },
  {
   "cell_type": "markdown",
   "source": [
    "### 1.\n",
    "Напишите программу, которая принимает список слов от пользователя и использует генераторное выражение (comprehension) для создания нового списка, содержащего только те слова, которые начинаются с гласной буквы. Затем программа должна использовать функцию map, чтобы преобразовать каждое слово в верхний регистр. В результате программа должна вывести новый список, содержащий только слова, начинающиеся с гласной буквы и записанные в верхнем регистре.\n",
    "\n",
    "\n"
   ],
   "metadata": {
    "id": "8JzhYz8BfXLc"
   }
  },
  {
   "cell_type": "code",
   "source": [
    "def find_first_vowel(user_list: list) -> list:\n",
    "    if not user_list:\n",
    "        return []\n",
    "    return [word for word in user_list if word[0].lower() in ('a', 'e', 'i', 'o', 'u')]\n",
    "\n",
    "def transformate_words(words: list) -> list:\n",
    "    if not words:\n",
    "        return []\n",
    "    return list(map(lambda x: x.upper(), words))\n",
    "\n",
    "user_list = [\n",
    "    \"Amicus\", \"Aqua\", \"Echo\", \"Ignis\", \"Oculus\", \"Umbra\",\n",
    "    \"Bellum\", \"Canis\", \"Domus\", \"Flos\", \"Magister\", \"Terra\"\n",
    "]\n",
    "\n",
    "filtered_words = find_first_vowel(user_list)\n",
    "upper_words = transformate_words(filtered_words)\n",
    "\n",
    "print(upper_words)\n"
   ],
   "metadata": {
    "colab": {
     "base_uri": "https://localhost:8080/"
    },
    "id": "AuEv3bGCgS_e",
    "outputId": "f4be142a-27d7-454b-9646-2f067aa0e69e"
   },
   "execution_count": null,
   "outputs": [
    {
     "output_type": "stream",
     "name": "stdout",
     "text": [
      "['AMICUS', 'AQUA', 'ECHO', 'IGNIS', 'OCULUS', 'UMBRA']\n"
     ]
    }
   ]
  },
  {
   "cell_type": "code",
   "source": [
    "import itertools\n",
    "import operator\n",
    "\n",
    "\n",
    "def separate_words(wordlist: list[str]) -> list[str]:\n",
    "    vocals = \"aeiuyo\"\n",
    "    temp=(word for word in wordlist if word[0] in vocals)\n",
    "    print(temp)\n",
    "    print(next(temp))\n",
    "    print(next(temp))\n",
    "    # new_list = list(map(lambda word: word.upper(), temp))\n",
    "    new_list = list(map(lambda word: word.upper(), (word for word in wordlist if word[0] in vocals)))\n",
    "    return new_list\n",
    "\n",
    "\n",
    "words = ['apple', 'banana', 'dragonfruit', 'kiwi', 'apricot']\n",
    "print(separate_words(words))"
   ],
   "metadata": {
    "colab": {
     "base_uri": "https://localhost:8080/"
    },
    "id": "Jzga0FigjRVl",
    "outputId": "6ebfdcae-e7ee-466c-ccca-14b87743e88e"
   },
   "execution_count": null,
   "outputs": [
    {
     "output_type": "stream",
     "name": "stdout",
     "text": [
      "<generator object separate_words.<locals>.<genexpr> at 0x7a0addde9c40>\n",
      "apple\n",
      "apricot\n",
      "['APPLE', 'APRICOT']\n"
     ]
    }
   ]
  },
  {
   "cell_type": "markdown",
   "source": [
    "### 2.\n",
    "Напишите программу, которая принимает список чисел от пользователя и использует функцию reduce из модуля functools, чтобы найти произведение всех чисел в списке. Затем программа должна использовать функцию itertools.accumulate для накопления произведений чисел в новом списке. В результате программа должна вывести список, содержащий накопленные произведения."
   ],
   "metadata": {
    "id": "NcO-VuIQfcJp"
   }
  },
  {
   "cell_type": "code",
   "source": [
    "from functools import reduce\n",
    "from itertools import accumulate\n",
    "\n",
    "def number_list_multiply(int):\n",
    "    product = reduce(lambda x, y: x * y, int)\n",
    "\n",
    "    accumulated_multiply = list(accumulate(int, lambda x, y: x * y))\n",
    "\n",
    "    return product, accumulated_multiply\n",
    "\n",
    "list_of_list = list(map(int, input(\"enter int: \").split()))\n",
    "\n",
    "result_of_product, total = number_list_multiply(list_of_list)\n",
    "print(\"Multiplication of all numbers:\", result_of_product)\n",
    "print(\"Accumulated multiplication list:\", total)"
   ],
   "metadata": {
    "colab": {
     "base_uri": "https://localhost:8080/"
    },
    "id": "ChVXV9Yif7-0",
    "outputId": "12ae4ef8-9db2-41f0-f4c4-633381232db9"
   },
   "execution_count": null,
   "outputs": [
    {
     "output_type": "stream",
     "name": "stdout",
     "text": [
      "enter int: 1 2 3 4 5\n",
      "Multiplication of all numbers: 120\n",
      "Accumulated multiplication list: [1, 2, 6, 24, 120]\n"
     ]
    }
   ]
  },
  {
   "cell_type": "code",
   "source": [
    "from functools import reduce\n",
    "import operator\n",
    "\n",
    "def sum_multiplied_nums(data: list[int]) -> tuple[int, list[int]]:\n",
    "    total_num: int = reduce(lambda x, y: x * y, data)\n",
    "    accumulated_nums: list[int] = list(itertools.accumulate(data, operator.mul))\n",
    "    t = [total_num, accumulated_nums]\n",
    "    return t\n",
    "\n",
    "numbers: list[int] = [1,2,3,4,5]\n",
    "total_prod, sum_prod = sum_multiplied_nums(numbers)\n",
    "print(sum_multiplied_nums(numbers))\n",
    "print(f\"total_production of numbers is {total_prod}\")\n",
    "print(f\"sum_production of numbers is {sum_prod}\")"
   ],
   "metadata": {
    "colab": {
     "base_uri": "https://localhost:8080/"
    },
    "id": "L3iIBtQSjlpb",
    "outputId": "9b3bfd7c-2c13-497f-95b5-aa608bd2ab8e"
   },
   "execution_count": null,
   "outputs": [
    {
     "output_type": "stream",
     "name": "stdout",
     "text": [
      "[120, [1, 2, 6, 24, 120]]\n",
      "total_production of numbers is 120\n",
      "sum_production of numbers is [1, 2, 6, 24, 120]\n"
     ]
    }
   ]
  }
 ]
}
