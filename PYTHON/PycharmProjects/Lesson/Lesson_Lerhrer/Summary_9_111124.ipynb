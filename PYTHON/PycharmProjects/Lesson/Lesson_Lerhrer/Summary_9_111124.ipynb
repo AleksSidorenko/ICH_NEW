{
  "nbformat": 4,
  "nbformat_minor": 0,
  "metadata": {
    "colab": {
      "provenance": []
    },
    "kernelspec": {
      "name": "python3",
      "display_name": "Python 3"
    },
    "language_info": {
      "name": "python"
    }
  },
  "cells": [
    {
      "cell_type": "markdown",
      "source": [
        "## Python fundamentals: Домашнее задание 17 (Python)\n"
      ],
      "metadata": {
        "id": "TxY9EMVr4Uy0"
      }
    },
    {
      "cell_type": "markdown",
      "source": [
        "### 1.\n",
        "Напишите программу, которая принимает список чисел от пользователя и передает его в функцию modify_list, которая изменяет элементы списка. Функция должна умножить нечетные числа на 2, а четные числа разделить на 2. Выведите измененный список на экран. Объясните, почему изменения происходят только внутри функции и как работают изменяемые и неизменяемые параметры.\n",
        "\n",
        "\n",
        "Пример вывода:\n",
        "\n",
        "\n",
        "Введите список чисел, разделенных пробелами: 1 2 3 4 5\n",
        "\n",
        "Измененный список чисел: [2, 1, 6, 2, 10]\n",
        "\n",
        "\n",
        "\n"
      ],
      "metadata": {
        "id": "KNfnOGM24O-s"
      }
    },
    {
      "cell_type": "code",
      "source": [
        "# extra\n",
        "def modify_list(numbers):\n",
        "    for i, elem in enumerate(numbers):\n",
        "        if elem % 2 == 0:\n",
        "            result = elem // 2\n",
        "        else:\n",
        "            result = elem * 2\n",
        "        numbers[i] = result\n",
        "\n",
        "num_list = [1, 2, 3, 4, 5]\n",
        "# print(list(enumerate(num_list)))\n",
        "modify_list(num_list)\n",
        "print(f'Измененный список чисел: {num_list}')"
      ],
      "metadata": {
        "colab": {
          "base_uri": "https://localhost:8080/"
        },
        "id": "AgSlWw5hC_DB",
        "outputId": "975e3ad5-b262-45cb-fe2f-2053b5cfd56a"
      },
      "execution_count": null,
      "outputs": [
        {
          "output_type": "stream",
          "name": "stdout",
          "text": [
            "[(0, 1), (1, 2), (2, 3), (3, 4), (4, 5)]\n",
            "Измененный список чисел: [2, 1, 6, 2, 10]\n"
          ]
        }
      ]
    },
    {
      "cell_type": "code",
      "source": [
        "# Вариант 1:\n",
        "modify_list = [int(a)*2 if int(a)%2 != 0 else round(int(a)/2) for a in input(\"Введите числа через пробел: \").split(\" \")]\n",
        "print(\"Измененный список чисел:\",modify_list)"
      ],
      "metadata": {
        "id": "d8sLrVAz8c5n"
      },
      "execution_count": null,
      "outputs": []
    },
    {
      "cell_type": "code",
      "source": [
        "# Вариант 2:\n",
        "your_number = [1, 2, 3, 4, 5]\n",
        "# your_number = list(map(int, str(input(\"Введите числа через пробел: \")).split()))\n",
        "modify_list = [a*2 if a%2 != 0 else round(a/2) for a in your_number]\n",
        "print(\"Измененный список чисел:\", modify_list)"
      ],
      "metadata": {
        "id": "BTnagJdL8ei1"
      },
      "execution_count": null,
      "outputs": []
    },
    {
      "cell_type": "code",
      "source": [
        "# Вариант 3:\n",
        "your_number = [1, 2, 3, 4, 5]\n",
        "def add(*your_number):\n",
        "  new_number = []\n",
        "  for number in your_number:\n",
        "    if number % 2 == 0:\n",
        "      result = number // 2\n",
        "    else:\n",
        "      result = number * 2\n",
        "\n",
        "    new_number.append(result)\n",
        "  return new_number\n",
        "\n",
        "print(your_number)\n",
        "print(\"Измененный список чисел:\", add(*your_number))"
      ],
      "metadata": {
        "colab": {
          "base_uri": "https://localhost:8080/"
        },
        "id": "GbD3Hb8T8biu",
        "outputId": "2e5e2df6-5a6f-47b8-9650-a79c7a2096cd"
      },
      "execution_count": null,
      "outputs": [
        {
          "output_type": "stream",
          "name": "stdout",
          "text": [
            "[1, 2, 3, 4, 5]\n",
            "Измененный список чисел: [2, 1, 6, 2, 10]\n"
          ]
        }
      ]
    },
    {
      "cell_type": "code",
      "source": [
        "# Функция должна умножить нечетные числа на 2, а четные числа разделить на 2. Выведите измененный список на экран.\n",
        "# 1 2 3 4 5 6\n",
        "\n",
        "master_list = input('Enter numbers separated by spaces: ').split()\n",
        "\n",
        "while True:\n",
        "    if all(item.isnumeric() for item in master_list):\n",
        "        break\n",
        "    else:\n",
        "        print('Not a number. Please input only numbers:')\n",
        "        master_list = input('Enter numbers separated by spaces: ').split()\n",
        "\n",
        "\n",
        "def modify_list(*master_list):\n",
        "    return [int(x) *2 if int(x) % 2 != 0 else int(x) // 2 for x in master_list]\n",
        "\n",
        "\n",
        "print(f'Muliplication odds by 2 and deviding even numbers by 2: {modify_list(*master_list)}')"
      ],
      "metadata": {
        "colab": {
          "base_uri": "https://localhost:8080/"
        },
        "id": "chhk-zMQ-o_V",
        "outputId": "621603fb-40b2-407e-a206-05ae211c7d37"
      },
      "execution_count": null,
      "outputs": [
        {
          "output_type": "stream",
          "name": "stdout",
          "text": [
            "Enter numbers separated by spaces: 1 2 3 4 5 6\n",
            "Muliplication odds by 2 and deviding even numbers by 2: [2, 1, 6, 2, 10, 3]\n"
          ]
        }
      ]
    },
    {
      "cell_type": "code",
      "source": [
        "def modify_list(numbers_list, condition):\n",
        "    new_list = [number // 2 if condition(number) else number * 2 for number in numbers_list]\n",
        "    return new_list\n",
        "print(modify_list(([1, 2, 3, 4, 5]), lambda x: x % 2 == 0))"
      ],
      "metadata": {
        "colab": {
          "base_uri": "https://localhost:8080/"
        },
        "id": "_vos5vLgBQ22",
        "outputId": "7c4404fb-56be-4b03-96e1-1a1242e1be8d"
      },
      "execution_count": null,
      "outputs": [
        {
          "output_type": "stream",
          "name": "stdout",
          "text": [
            "[2, 1, 6, 2, 10]\n"
          ]
        }
      ]
    },
    {
      "cell_type": "code",
      "source": [
        "def modify_lis(*args):\n",
        "    res_list = []\n",
        "    for elem in args:\n",
        "        if elem % 2 == 0:\n",
        "            res_list.append(elem//2)\n",
        "        else:\n",
        "            res_list.append(elem*2)\n",
        "    return res_list\n",
        "\n",
        "user_numbers = input('Введите список чисел, разделенных пробелами:')\n",
        "num_list = [int(item) for item in user_numbers.split()]\n",
        "print(f'Измененный список чисел: {modify_lis(*num_list)}')"
      ],
      "metadata": {
        "colab": {
          "base_uri": "https://localhost:8080/"
        },
        "id": "39MIy_JuCY8F",
        "outputId": "1f61fa70-d1c6-4c5d-85e9-0e46a67f8adf"
      },
      "execution_count": null,
      "outputs": [
        {
          "output_type": "stream",
          "name": "stdout",
          "text": [
            "Введите список чисел, разделенных пробелами:1 2 3 4 5\n",
            "Измененный список чисел: [2, 1, 6, 2, 10]\n"
          ]
        }
      ]
    },
    {
      "cell_type": "code",
      "source": [
        "def modify_list(numbers):\n",
        "    num = [ round(number / 2) if number % 2 == 0 else number * 2 for number in numbers ]\n",
        "    return num\n",
        "\n",
        "\n",
        "l_numbers = list(map(int, input(\"Введите список чисел, разделенных пробелами: \").split()))\n",
        "print(modify_list(l_numbers))\n",
        "\n",
        "# или:\n",
        "def modify_list():\n",
        "    l_numbers = input('Введите список чисел, разделенных пробелами: ').split()\n",
        "    num = [ round(int(number) / 2) if int(number) % 2 == 0 else int(number) * 2 for number in l_numbers ]\n",
        "    return num\n",
        "\n",
        "\n",
        "print(modify_list())"
      ],
      "metadata": {
        "colab": {
          "base_uri": "https://localhost:8080/"
        },
        "id": "Y6eDzmRgCudX",
        "outputId": "c45d8c4e-e489-4c36-afd0-50f0f066dc71"
      },
      "execution_count": null,
      "outputs": [
        {
          "output_type": "stream",
          "name": "stdout",
          "text": [
            "Введите список чисел, разделенных пробелами: 1 2 3 4 5\n",
            "[2, 1, 6, 2, 10]\n",
            "Введите список чисел, разделенных пробелами: 1 2 3 4 5\n",
            "[2, 1, 6, 2, 10]\n"
          ]
        }
      ]
    },
    {
      "cell_type": "code",
      "source": [
        "def modify_list(numbers):\n",
        "    result = [int(num) // 2 if int(num) % 2 == 0 else int(num) * 2 for num in numbers]\n",
        "    # result = []\n",
        "    # for num in numbers:\n",
        "    #     if int(num) % 2 == 0:\n",
        "    #         result.append(int(num) // 2)\n",
        "    #     else:\n",
        "    #         result.append(int(num) * 2)\n",
        "    return result\n",
        "list_numbers = input(\"Введите список чисел, разделенных пробелами: \").split()\n",
        "\n",
        "print(f'Измененный список чисел: {modify_list(list_numbers)}')"
      ],
      "metadata": {
        "colab": {
          "base_uri": "https://localhost:8080/"
        },
        "id": "ThRZ61ggFJv7",
        "outputId": "5e382476-b317-4a3f-c813-76515c7ca06b"
      },
      "execution_count": null,
      "outputs": [
        {
          "output_type": "stream",
          "name": "stdout",
          "text": [
            "Введите список чисел, разделенных пробелами: 1 2 3 4 5\n",
            "Измененный список чисел: [2, 1, 6, 2, 10]\n"
          ]
        }
      ]
    },
    {
      "cell_type": "code",
      "source": [
        "print('Задание №1\\n')\n",
        "user_input = input('Введите числа, разделённые пробелами: ').split(\" \")\n",
        "user_input = [int(x) for x in user_input]\n",
        "print(f'Введённые числа: {user_input}')\n",
        "user_output = [] # создание нового выводного списка\n",
        "def modify_list(urlist):\n",
        "    for x in urlist:\n",
        "        if x % 2 == 0:\n",
        "            x //= 2\n",
        "            user_output.append(x)\n",
        "        elif x % 2 != 0:\n",
        "            x *= 2\n",
        "            user_output.append(x)\n",
        "modify_list(user_input)\n",
        "print(f'\\nИзменённый список чисел: {user_output}')\n",
        "\n",
        "\n"
      ],
      "metadata": {
        "colab": {
          "base_uri": "https://localhost:8080/"
        },
        "id": "sdcHNzFTFqPQ",
        "outputId": "2cf0e940-49a6-44be-fece-328321e6643d"
      },
      "execution_count": null,
      "outputs": [
        {
          "output_type": "stream",
          "name": "stdout",
          "text": [
            "Задание №1\n",
            "\n",
            "Введите числа, разделённые пробелами: 1 2 3 4 5\n",
            "Введённые числа: [1, 2, 3, 4, 5]\n",
            "\n",
            "Изменённый список чисел: [2, 1, 6, 2, 10]\n",
            "\n",
            "\n",
            "Второй вариант решения задания\n",
            "\n",
            "Введите числа через пробел: 1 2 3 4 5\n",
            "Изменённый список чисел: [2, 1, 6, 2, 10]\n"
          ]
        }
      ]
    },
    {
      "cell_type": "code",
      "source": [
        "print(f'\\n\\nВторой вариант решения задания\\n')\n",
        "modified_list = [int(x) * 2 if int(x) % 2 != 0 else int(x) // 2 for x in input(f'Введите числа через пробел: ').split(\" \")]\n",
        "print(f'Изменённый список чисел: {modified_list}')"
      ],
      "metadata": {
        "id": "1zgN5C72c_g0"
      },
      "execution_count": null,
      "outputs": []
    },
    {
      "cell_type": "code",
      "source": [
        "def modify_list(num_list):\n",
        "    modified_list = [num * 2 if num % 2 != 0 else round(num / 2) for num in num_list]\n",
        "    return modified_list\n",
        "\n",
        "\n",
        "user_list = [num for num in range(1, 6)] #automatic input\n",
        "# user_list = list(map(int, input(\"Enter numbers: \").split())) #user input\n",
        "print(modify_list(user_list))\n"
      ],
      "metadata": {
        "colab": {
          "base_uri": "https://localhost:8080/"
        },
        "id": "uwq8gQyrGJRi",
        "outputId": "1db59f05-016c-4a8c-aa8b-79837269769f"
      },
      "execution_count": null,
      "outputs": [
        {
          "output_type": "stream",
          "name": "stdout",
          "text": [
            "[2, 1, 6, 2, 10]\n"
          ]
        }
      ]
    },
    {
      "cell_type": "code",
      "source": [
        "def modify_list(numbers):\n",
        "    numbers = [int(num) // 2 if int(num) % 2 == 0 else int(num) * 2 for num in numbers]\n",
        "    return numbers\n",
        "list_numbers = input(\"Введите список чисел, разделенных пробелами: \").split()\n",
        "\n",
        "print(f'Измененный список чисел: {modify_list(list_numbers)}')\n",
        "\n",
        "print(list_numbers)"
      ],
      "metadata": {
        "colab": {
          "base_uri": "https://localhost:8080/"
        },
        "id": "VPVFROMcd9L3",
        "outputId": "5f361f48-7842-4d60-ea80-afcebd73aad9"
      },
      "execution_count": null,
      "outputs": [
        {
          "output_type": "stream",
          "name": "stdout",
          "text": [
            "Введите список чисел, разделенных пробелами: 1 2 3 4 5\n",
            "Измененный список чисел: [2, 1, 6, 2, 10]\n",
            "['1', '2', '3', '4', '5']\n"
          ]
        }
      ]
    },
    {
      "cell_type": "markdown",
      "source": [
        "### 2.\n",
        "Напишите программу, которая принимает произвольное количество аргументов от пользователя и передает их в функцию calculate_sum, которая возвращает сумму всех аргументов. Используйте оператор * при передаче аргументов в функцию. Выведите результат на экран.\n",
        "\n",
        "\n",
        "Пример вывода:\n",
        "\n",
        "\n",
        "Введите числа, разделенные пробелами: 1 2 3 4 5\n",
        "\n",
        "Сумма чисел: 15"
      ],
      "metadata": {
        "id": "8NL5deip4pDr"
      }
    },
    {
      "cell_type": "code",
      "execution_count": null,
      "metadata": {
        "id": "5olxCZPR3raf"
      },
      "outputs": [],
      "source": [
        "your_number = [1, 2, 3, 4, 5]\n",
        "# your_number = input(\"Введите числа через пробел: \")\n",
        "# your_number = [int(x) for x in your_number.split()]\n",
        "calculate_sum = lambda *your_number: sum(your_number)\n",
        "\n",
        "print(\"Сумма чисел:\",calculate_sum(*your_number))"
      ]
    },
    {
      "cell_type": "code",
      "source": [
        "main_list = input('Enter a numbers separated by space: ').split()\n",
        "while True:\n",
        "    if all(item.isnumeric() for item in main_list):\n",
        "        break\n",
        "    else:\n",
        "        print('Wrong input. Please enter only numbers')\n",
        "        main_list = input('Enter a numbers separated by space: ').split()\n",
        "\n",
        "\n",
        "def calculate_sum(*args):\n",
        "    numbers = [int(arg) for arg in args]\n",
        "    return sum(numbers)\n",
        "\n",
        "result = calculate_sum(*main_list)\n",
        "print(f'The sum of entered numbers is: {calculate_sum(result)}')"
      ],
      "metadata": {
        "colab": {
          "base_uri": "https://localhost:8080/"
        },
        "id": "ewx5OwW4A45b",
        "outputId": "b9949f92-3fe0-4a90-cfe4-183ecc6b2fd1"
      },
      "execution_count": null,
      "outputs": [
        {
          "output_type": "stream",
          "name": "stdout",
          "text": [
            "Enter a numbers separated by space: 1 2 3 4 5\n",
            "The sum of entered numbers is: 15\n"
          ]
        }
      ]
    },
    {
      "cell_type": "code",
      "source": [
        "def calculate_sum(*args):\n",
        "    sum_list = sum(number for number in args)\n",
        "    return sum_list\n",
        "print(calculate_sum(*map(int, input(\"Введите числа, разделенные пробелами: \").split())))"
      ],
      "metadata": {
        "colab": {
          "base_uri": "https://localhost:8080/"
        },
        "id": "gdJ6y0g9CJ63",
        "outputId": "fde4c513-c0d9-4629-f01b-4b19bf506930"
      },
      "execution_count": null,
      "outputs": [
        {
          "output_type": "stream",
          "name": "stdout",
          "text": [
            "Введите числа, разделенные пробелами: 1 2 3 4 5\n",
            "15\n"
          ]
        }
      ]
    },
    {
      "cell_type": "code",
      "source": [
        "def calculate_sum(*args):\n",
        "    res = 0\n",
        "    for item in args:\n",
        "        res += item\n",
        "    return res\n",
        "\n",
        "\n",
        "num = input('Введите числа, разделенные пробелами: ')\n",
        "num_list = [int(elem) for elem in num.split()]\n",
        "\n",
        "print(f'Сумма чисел: {calculate_sum(*num_list)}')"
      ],
      "metadata": {
        "colab": {
          "base_uri": "https://localhost:8080/"
        },
        "id": "ZuQ3V87JCz7u",
        "outputId": "e60a58bc-c6f4-4006-9e74-cf5b525eb716"
      },
      "execution_count": null,
      "outputs": [
        {
          "output_type": "stream",
          "name": "stdout",
          "text": [
            "Введите числа, разделенные пробелами: 1 2 3 4 5\n",
            "Сумма чисел: 15\n"
          ]
        }
      ]
    },
    {
      "cell_type": "code",
      "source": [
        "# 1\n",
        "def calculate_sum(*args):\n",
        "    i = 0\n",
        "    for arg in args:\n",
        "        for a in arg:\n",
        "            i += int(a)\n",
        "    return i\n",
        "\n",
        "l_numbers = input(\"Введите список чисел, разделенных пробелами: \").split()\n",
        "print(calculate_sum(l_numbers))\n",
        "\n",
        "# 2\n",
        "def calculate_sum(*args):\n",
        "    s = [ a for arg in args for a in arg ]\n",
        "    return sum(s)\n",
        "\n",
        "l_numbers = list(map(int, input(\"Введите список чисел, разделенных пробелами: \").split()))\n",
        "print(calculate_sum(l_numbers))\n",
        "\n",
        "# 3\n",
        "def calculate_sum(*args):\n",
        "    s = [ int(a) for arg in args for a in arg ]\n",
        "    return sum(s)\n",
        "\n",
        "l_numbers = calculate_sum(input(\"Введите список чисел, разделенных пробелами: \").split())\n",
        "print(l_numbers)\n"
      ],
      "metadata": {
        "colab": {
          "base_uri": "https://localhost:8080/"
        },
        "id": "dl-_HikEEo2Y",
        "outputId": "9f3272cf-d19f-486c-cc0f-b0b7961b25cd"
      },
      "execution_count": null,
      "outputs": [
        {
          "output_type": "stream",
          "name": "stdout",
          "text": [
            "Введите список чисел, разделенных пробелами: 1 2 3 4 5\n",
            "15\n",
            "Введите список чисел, разделенных пробелами: 1 2 3 4 5\n",
            "15\n",
            "Введите список чисел, разделенных пробелами: 1 2 3 4 5\n",
            "15\n"
          ]
        }
      ]
    },
    {
      "cell_type": "code",
      "source": [
        "def calculate_sum(*numbers):\n",
        "    # result = [int(num) for row in numbers for num in row]\n",
        "    result = []\n",
        "    for row in numbers:\n",
        "        for num in row:\n",
        "            result.append(int(num))\n",
        "\n",
        "    sum_result = sum(result)\n",
        "    return sum_result\n",
        "\n",
        "numbers = input(\"Введите числа, разделенные пробелами: \").split()\n",
        "\n",
        "sum_numers = calculate_sum(numbers)\n",
        "print(f'Сумма чисел: {sum_numers}')\n"
      ],
      "metadata": {
        "colab": {
          "base_uri": "https://localhost:8080/"
        },
        "id": "k_HD35EwFUkG",
        "outputId": "48ba16a7-4356-4d0e-92e1-fa9dc84d5e07"
      },
      "execution_count": null,
      "outputs": [
        {
          "output_type": "stream",
          "name": "stdout",
          "text": [
            "Введите числа, разделенные пробелами: 1 2 3 4 5\n",
            "Сумма чисел: 15\n"
          ]
        }
      ]
    },
    {
      "cell_type": "code",
      "source": [
        "print('\\n\\nЗадание №2\\n')\n",
        "def calculate_sum(*x):\n",
        "    return print(f'Сумма введённых чисел: {sum(*x)}')\n",
        "user_input = [int(x) for x in input(f'Введите числа, разделённые пробелом: ').split(\" \")]\n",
        "calculate_sum(user_input)\n",
        "\n",
        "\n",
        "print(f'\\n\\nВторой вариант решения задания\\n')\n",
        "calculate_sum = lambda *x: sum(x)\n",
        "user_input = [int(x) for x in input(f'Введите числа, разделённые пробелом: ').split(\" \")]\n",
        "print(f'Сумма введённых чисел: {calculate_sum(*user_input)}')"
      ],
      "metadata": {
        "colab": {
          "base_uri": "https://localhost:8080/"
        },
        "id": "diGqJsCrF-Ai",
        "outputId": "5a45b59a-c71b-423f-d2f6-a19e2b7fb9a7"
      },
      "execution_count": null,
      "outputs": [
        {
          "output_type": "stream",
          "name": "stdout",
          "text": [
            "\n",
            "\n",
            "Задание №2\n",
            "\n",
            "Введите числа, разделённые пробелом: 1 2 3 4 5\n",
            "Сумма введённых чисел: 15\n",
            "\n",
            "\n",
            "Второй вариант решения задания\n",
            "\n",
            "Введите числа, разделённые пробелом: 1 2 3 4 5\n",
            "Сумма введённых чисел: 15\n"
          ]
        }
      ]
    },
    {
      "cell_type": "code",
      "source": [
        "def calculate_sum(*args):\n",
        "    return sum(args)\n",
        "\n",
        "\n",
        "# user_nums = input(\"Enter numbers, separated by ' ': \") #user_input\n",
        "user_nums = \"1 2 3 4 5\" #automatic input\n",
        "num_list = [int(item) for item in user_nums.split()]\n",
        "\n",
        "print(f\"The total sum is: {calculate_sum(*num_list)}\")"
      ],
      "metadata": {
        "colab": {
          "base_uri": "https://localhost:8080/"
        },
        "id": "0GnBJgw7GQuJ",
        "outputId": "89d66d91-fd16-456a-a62e-6d36e1906e73"
      },
      "execution_count": null,
      "outputs": [
        {
          "output_type": "stream",
          "name": "stdout",
          "text": [
            "The total sum is: 15\n"
          ]
        }
      ]
    },
    {
      "cell_type": "markdown",
      "source": [
        "## Python fundamentals: Домашнее задание 18 (Python)\n"
      ],
      "metadata": {
        "id": "e4nWGTI54dGZ"
      }
    },
    {
      "cell_type": "markdown",
      "source": [
        "### 1.\n",
        "Написать программу, вычисляющую факториал числа.\n",
        "\n",
        "Решить задачу с помощью рекурсии."
      ],
      "metadata": {
        "id": "B3YS0g5f4kz-"
      }
    },
    {
      "cell_type": "code",
      "source": [
        "# 1\n",
        "num2fact = 5\n",
        "fact_steps = []\n",
        "direction = ' winding '\n",
        "\n",
        "def get_fancy_factorial(i, fact = 1, result = 1, iter_info = 0):\n",
        "    if i <= 0:\n",
        "        print('-' * (iter_info // 2 - (len(direction)//2)) + direction + '-' * (iter_info // 2 - (len(direction)//2)))\n",
        "        return result\n",
        "\n",
        "    else:\n",
        "        fact_steps.append(fact)\n",
        "        iter_info = f'iter {i}: {i} * {result} = {i * result}'\n",
        "        print(iter_info)\n",
        "\n",
        "        return get_fancy_factorial(i - 1, fact + 1, i * result, len(iter_info)) # Start returning from here\n",
        "\n",
        "\n",
        "result = get_fancy_factorial(num2fact)\n",
        "[\n",
        "    print(str(num2fact)+ '! = ' + str(x) + '*', end = '') if fact_steps.index(x) == 0 else\n",
        "    print(f'{str(x)} = {result}') if fact_steps.index(x) == num2fact - 1 else\n",
        "    print(str(x) + '*', end = '') for x in fact_steps\n",
        "]\n",
        "\n",
        "\n",
        "print('\\n--------------------------------------------------------\\n')\n",
        "fact_steps_1 = []\n",
        "direction = ' unwinding '\n",
        "\n",
        "def get_fancy_factorial_1(i):\n",
        "    if i <= 1:\n",
        "        print(f'iter {i}: {i} * {i} = {i * i}')\n",
        "        fact_steps_1.append(i)\n",
        "        return 1 # Start returning from here\n",
        "\n",
        "\n",
        "    partial_result = get_fancy_factorial_1(i - 1)\n",
        "    result = i * partial_result\n",
        "    iter_info = f'iter {i}: {i} * {partial_result} = {result}'\n",
        "    fact_steps_1.append(i)\n",
        "\n",
        "    print(iter_info)\n",
        "    print('-' * (len(iter_info) // 2 - (len(direction)//2)) + direction + '-' * (len(iter_info) // 2 - (len(direction)//2))) if i == num2fact else None\n",
        "\n",
        "    return result\n",
        "\n",
        "\n",
        "result = get_fancy_factorial_1(num2fact)\n",
        "fact_steps_1rev = fact_steps_1[:]\n",
        "fact_steps_1rev.reverse()\n",
        "\n",
        "[\n",
        "    print(str(num2fact)+ '! = ' + str(x) + '*', end='') if x == fact_steps_1rev[0] else\n",
        "    print(f'{str(x)} = {result}') if x == fact_steps_1rev[-1] else\n",
        "    print(str(x) + '*', end='') for x in fact_steps_1rev\n",
        "]\n",
        "\n",
        "print('\\n--------------------------------------------------------\\n')\n",
        "\n",
        "def get_boring_factorial(fa):\n",
        "    if fa <= 1:\n",
        "        return 1\n",
        "    else:\n",
        "        return fa * get_boring_factorial(fa - 1)"
      ],
      "metadata": {
        "colab": {
          "base_uri": "https://localhost:8080/"
        },
        "id": "COed1vm3G74Y",
        "outputId": "10e0694c-1b24-4240-f990-f5f9f0b46e63"
      },
      "execution_count": null,
      "outputs": [
        {
          "output_type": "stream",
          "name": "stdout",
          "text": [
            "iter 5: 5 * 1 = 5\n",
            "iter 4: 4 * 5 = 20\n",
            "iter 3: 3 * 20 = 60\n",
            "iter 2: 2 * 60 = 120\n",
            "iter 1: 1 * 120 = 120\n",
            "------ winding ------\n",
            "5! = 1*2*3*4*5 = 120\n",
            "\n",
            "--------------------------------------------------------\n",
            "\n",
            "iter 1: 1 * 1 = 1\n",
            "iter 2: 2 * 1 = 2\n",
            "iter 3: 3 * 2 = 6\n",
            "iter 4: 4 * 6 = 24\n",
            "iter 5: 5 * 24 = 120\n",
            "----- unwinding -----\n",
            "5! = 5*4*3*2*1 = 120\n",
            "\n",
            "--------------------------------------------------------\n",
            "\n"
          ]
        }
      ]
    },
    {
      "cell_type": "code",
      "source": [
        "def factorial(n):\n",
        "    if n < 0:\n",
        "        return None\n",
        "    if n == 0:\n",
        "        return 1\n",
        "    else:\n",
        "        return n * factorial(n - 1)\n",
        "\n",
        "# Ввод числа\n",
        "num = int(input(\"Введите число: \"))\n",
        "print(f\"Факториал {num} равен {factorial(num)}\")\n"
      ],
      "metadata": {
        "colab": {
          "base_uri": "https://localhost:8080/"
        },
        "id": "eJYjLRkfIL_5",
        "outputId": "6f9978f2-b6cb-400a-f142-9618d247f0d5"
      },
      "execution_count": null,
      "outputs": [
        {
          "output_type": "stream",
          "name": "stdout",
          "text": [
            "Введите число: -5\n",
            "Факториал -5 равен None\n"
          ]
        }
      ]
    },
    {
      "cell_type": "markdown",
      "source": [
        "\n",
        "\n",
        "\n",
        "### 2.\n",
        "Напишите программу, которая использует рекурсию для вычисления суммы цифр числа. Создайте функцию sum_digits, которая принимает один аргумент - число, для которого нужно вычислить сумму цифр. Используйте условие выхода из рекурсии, когда число состоит из одной цифры. Выведите результат на экран.\n",
        "\n",
        "\n",
        "Пример вывода:\n",
        "\n",
        "\n",
        "Введите число: 12345\n",
        "\n",
        "Сумма цифр числа 12345 равна 15\n",
        "\n"
      ],
      "metadata": {
        "id": "1Jr4RLu64b2n"
      }
    },
    {
      "cell_type": "code",
      "source": [
        "input_num = 123456\n",
        "summ = 0\n",
        "\n",
        "def sum_digits(dig):\n",
        "    global summ\n",
        "\n",
        "    if dig == None:\n",
        "        return summ\n",
        "\n",
        "    dig = str(dig)\n",
        "    int_len = len(dig)\n",
        "    summ += int(dig[0])\n",
        "    dig = dig[1:int_len] if len(dig) > 1 else None\n",
        "    return sum_digits(dig)\n",
        "\n",
        "result = sum_digits(input_num)\n",
        "\n",
        "print(f'sum of each number in \"{input_num}\" is: {result}')"
      ],
      "metadata": {
        "colab": {
          "base_uri": "https://localhost:8080/"
        },
        "id": "ojnD5betHUC9",
        "outputId": "74defb35-fc75-48b2-8642-fabc1f6eaa6b"
      },
      "execution_count": null,
      "outputs": [
        {
          "output_type": "stream",
          "name": "stdout",
          "text": [
            "sum of each number in \"123456\" is: 21\n"
          ]
        }
      ]
    },
    {
      "cell_type": "code",
      "source": [
        "def sum_digits(n):\n",
        "    if n < 10:\n",
        "        return n\n",
        "    return n % 10 + sum_digits(n // 10)\n",
        "\n",
        "num = int(input(\"Введите число: \"))\n",
        "print(f\"Сумма цифр числа {num} равна {sum_digits(num)}\")"
      ],
      "metadata": {
        "colab": {
          "base_uri": "https://localhost:8080/"
        },
        "id": "8zpIuY_HItF8",
        "outputId": "59b516b1-7193-496e-bedf-3faec26931c2"
      },
      "execution_count": null,
      "outputs": [
        {
          "output_type": "stream",
          "name": "stdout",
          "text": [
            "Введите число: 12345\n",
            "Сумма цифр числа 12345 равна 15\n"
          ]
        }
      ]
    }
  ]
}