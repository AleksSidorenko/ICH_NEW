{
  "nbformat": 4,
  "nbformat_minor": 0,
  "metadata": {
    "colab": {
      "provenance": []
    },
    "kernelspec": {
      "name": "python3",
      "display_name": "Python 3"
    },
    "language_info": {
      "name": "python"
    }
  },
  "cells": [
    {
      "cell_type": "markdown",
      "source": [
        "## Python fundamentals: Домашнее задание 20 (Python)\n"
      ],
      "metadata": {
        "id": "ka4kP7zXyY6q"
      }
    },
    {
      "cell_type": "markdown",
      "source": [
        "### 1."
      ],
      "metadata": {
        "id": "13BFkCKg8Vrb"
      }
    },
    {
      "cell_type": "code",
      "execution_count": null,
      "metadata": {
        "colab": {
          "base_uri": "https://localhost:8080/"
        },
        "id": "SOmS4Fgv7zBX",
        "outputId": "c645717a-823e-41bb-b526-89f07ff476e1"
      },
      "outputs": [
        {
          "output_type": "stream",
          "name": "stdout",
          "text": [
            "({'a': 1, 'b': 2}, {'b': 3, 'c': 4}, {'c': 5, 'd': 6})\n",
            "{}\n",
            "{}\n"
          ]
        }
      ],
      "source": [
        "# 1. Напишите функцию merge_dicts, которая принимает произвольное количество словарей в качестве аргументов и\n",
        "# возвращает новый словарь, объединяющий все входные словари. Если ключи повторяются, значения должны быть объединены в список.\n",
        "# Функция должна использовать аргумент **kwargs для принятия произвольного числа аргументов словаря.\n",
        "\n",
        "dict1 = {'a': 1, 'b': 2}\n",
        "dict2 = {'b': 3, 'c': 4}\n",
        "dict3 = {'c': 5, 'd': 6}\n",
        "\n",
        "\n",
        "def merge_dicts(*args, **kwargs):\n",
        "    print(args)\n",
        "    print(kwargs)\n",
        "    ''' Function for u study.\n",
        "\n",
        "    This function unifies the dictionaries in\n",
        "    a very strange way. '''\n",
        "    common_diction = {}\n",
        "    for el in kwargs.values():\n",
        "        for key, value in el.items():\n",
        "            if key in common_diction:\n",
        "                common_diction[key].append(value)\n",
        "            else:\n",
        "                common_diction[key] = [value]\n",
        "\n",
        "    return common_diction\n",
        "\n",
        "\n",
        "# result = merge_dicts(a=dict1, b=dict2, c=dict3)\n",
        "result = merge_dicts(dict1, dict2, dict3)\n",
        "print(result)\n"
      ]
    },
    {
      "cell_type": "code",
      "source": [
        "def merge_dicts(*args):\n",
        "    merged_dict = {}\n",
        "    for dict in args:\n",
        "        for key, value in dict.items():\n",
        "            if key in merged_dict:\n",
        "                merged_dict[key] = merged_dict[key] + [value]  # работает, но каждый раз пересоздает список\n",
        "            else:\n",
        "                merged_dict[key] = [value]\n",
        "    return merged_dict\n",
        "\n",
        "\n",
        "print(merge_dicts({'a': 1, 'b': 2}, {'b': 3, 'c': 4}, {'c': 5, 'd': 6}))"
      ],
      "metadata": {
        "colab": {
          "base_uri": "https://localhost:8080/"
        },
        "id": "-m_kD0nO9MkN",
        "outputId": "99c8cf6d-d021-4d90-cbc4-7ece4c0fa40a"
      },
      "execution_count": null,
      "outputs": [
        {
          "output_type": "stream",
          "name": "stdout",
          "text": [
            "{'a': [1], 'b': [2, 3], 'c': [4, 5], 'd': [6]}\n"
          ]
        }
      ]
    },
    {
      "cell_type": "code",
      "source": [
        "def merge_dicts(**kwargs):\n",
        "    res_dict = {}  # Обычный словарь\n",
        "\n",
        "    for key, value in kwargs.items():  # Перебираем переданные словари\n",
        "        for k, v in value.items():  # Перебираем ключи и значения внутри словаря\n",
        "            res_dict.setdefault(k, []).append(v)  # Добавляем в список\n",
        "\n",
        "    return res_dict\n",
        "\n",
        "\n",
        "result = merge_dicts(\n",
        "    dict_1={'a': 1, 'b': 2},\n",
        "    dict_2={'b': 3, 'c': 4},\n",
        "    dict_3={'c': 5, 'd': 6})\n",
        "\n",
        "print(result)"
      ],
      "metadata": {
        "colab": {
          "base_uri": "https://localhost:8080/"
        },
        "id": "B6Zs-NyMs4SM",
        "outputId": "6c726c48-9a18-47ee-a4be-2e2f8c43c8c1"
      },
      "execution_count": null,
      "outputs": [
        {
          "output_type": "stream",
          "name": "stdout",
          "text": [
            "{'a': [1], 'b': [2, 3], 'c': [4, 5], 'd': [6]}\n"
          ]
        }
      ]
    },
    {
      "cell_type": "markdown",
      "source": [
        "### 2."
      ],
      "metadata": {
        "id": "lmQYGOFw8C8j"
      }
    },
    {
      "cell_type": "code",
      "source": [
        "# 2. Напишите программу, которая принимает строку от пользователя и подсчитывает\n",
        "# количество уникальных символов в этой строке. Создайте функцию count_unique_chars,\n",
        "# которая принимает строку и возвращает количество уникальных символов. Выведите\n",
        "# результат на экран.\n",
        "\n",
        "\n",
        "def count_unique_chars(smth):\n",
        "    unique_chars = len(set(smth))\n",
        "    return unique_chars\n",
        "\n",
        "smth = input('Enter a string: ')\n",
        "print(f'There are {count_unique_chars(smth)} unique characters in the {smth}.')"
      ],
      "metadata": {
        "colab": {
          "base_uri": "https://localhost:8080/"
        },
        "id": "vn-tU3N68DTD",
        "outputId": "c16fcdeb-4d7c-48d3-d003-aaba7c50a440"
      },
      "execution_count": null,
      "outputs": [
        {
          "output_type": "stream",
          "name": "stdout",
          "text": [
            "Enter a string: hello\n",
            "There are 4 unique characters in the hello.\n"
          ]
        }
      ]
    },
    {
      "cell_type": "markdown",
      "source": [
        "### 3."
      ],
      "metadata": {
        "id": "vf54Gt5p8G1U"
      }
    },
    {
      "cell_type": "code",
      "source": [
        "# 3. Напишите программу, которая создает словарь, содержащий информацию о студентах и их\n",
        "# оценках. Ключами словаря являются имена студентов, а значениями - списки оценок.\n",
        "# Создайте функцию calculate_average_grade, которая принимает словарь с оценками\n",
        "# студентов и вычисляет средний балл для каждого студента. Функция должна возвращать\n",
        "# новый словарь, в котором ключами являются имена студентов, а значениями - их средний\n",
        "# балл. Выведите результат на экран.\n",
        "students = {\n",
        " 'Alice': [85, 90, 92],\n",
        " 'Bob': [78, 80, 84],\n",
        " 'Carol': [92, 88, 95]\n",
        "}\n",
        "\n",
        "\n",
        "def calculate_average_grade(students):\n",
        "    avg_grade = {}\n",
        "    for key, value in students.items():\n",
        "        avg_grade[key] = round(sum(value) / len(value), 1)\n",
        "    return avg_grade\n",
        "\n",
        "\n",
        "result = calculate_average_grade(students)\n",
        "\n",
        "print(f'Average grades: ')\n",
        "for key, value in result.items():\n",
        "    print(f'\\t{key}: {value}')\n"
      ],
      "metadata": {
        "colab": {
          "base_uri": "https://localhost:8080/"
        },
        "id": "T5IXwtUC8HJU",
        "outputId": "02a1228d-13b9-4469-a8af-ecc41b763117"
      },
      "execution_count": null,
      "outputs": [
        {
          "output_type": "stream",
          "name": "stdout",
          "text": [
            "Average grades: \n",
            "\tAlice: 89.0\n",
            "\tBob: 80.7\n",
            "\tCarol: 91.7\n"
          ]
        }
      ]
    },
    {
      "cell_type": "markdown",
      "source": [
        "## Python fundamentals: Домашнее задание 21 (Python)\n"
      ],
      "metadata": {
        "id": "ciIf0OZ6yTpa"
      }
    },
    {
      "cell_type": "markdown",
      "source": [
        "### 1.\n",
        "Напишите программу, которая подсчитывает количество вхождений каждого слова в тексте и выводит на экран наиболее часто встречающиеся слова. Для решения задачи используйте класс Counter из модуля collections. Создайте функцию count_words, которая принимает текст в качестве аргумента и возвращает словарь с количеством вхождений каждого слова. Выведите наиболее часто встречающиеся слова и их количество.\n",
        "\n",
        "\n",
        "Пример вывода:\n",
        "\n",
        "Введенный текст: Lorem ipsum dolor sit amet, consectetur adipiscing elit. Sed sed lacinia est.\n",
        "\n",
        "sed: 2\n",
        "\n",
        "Lorem: 1"
      ],
      "metadata": {
        "id": "v4qwZuuuygd3"
      }
    },
    {
      "cell_type": "code",
      "source": [
        "text = \"Lorem ipsum dolor sit amet, consectetur adipiscing elit. Sed sed lacinia est.\"\n",
        "from collections import Counter\n",
        "\n",
        "def count_words(text):\n",
        "    words = text.lower().split()\n",
        "    my_counter = Counter(words)\n",
        "    return my_counter\n",
        "\n",
        "\n",
        "text = text.replace(\".\", \" \").replace(\",\", \" \").replace(\"?\", \" \").replace(\"!\", \" \")\n",
        "my_counter = count_words(text)\n",
        "print(my_counter)\n",
        "\n",
        "# # Способ проще\n",
        "# print(my_counter.most_common(2))\n",
        "\n",
        "print(list(my_counter.items()))\n",
        "\n",
        "# sorted_my_counter = sorted(my_counter.items(), key=lambda x: (x[1]), reverse=True)\n",
        "sorted_my_counter = sorted(my_counter.items(), key=lambda x: (-x[1]))\n",
        "top2_words = sorted_my_counter[:2]\n",
        "\n",
        "print(top2_words)\n",
        "\n"
      ],
      "metadata": {
        "colab": {
          "base_uri": "https://localhost:8080/"
        },
        "id": "XWS6jmvpyQV6",
        "outputId": "74eccb94-008d-4c14-969a-9ab014aea09b"
      },
      "execution_count": null,
      "outputs": [
        {
          "output_type": "stream",
          "name": "stdout",
          "text": [
            "Counter({'sed': 2, 'lorem': 1, 'ipsum': 1, 'dolor': 1, 'sit': 1, 'amet': 1, 'consectetur': 1, 'adipiscing': 1, 'elit': 1, 'lacinia': 1, 'est': 1})\n",
            "[('lorem', 1), ('ipsum', 1), ('dolor', 1), ('sit', 1), ('amet', 1), ('consectetur', 1), ('adipiscing', 1), ('elit', 1), ('sed', 2), ('lacinia', 1), ('est', 1)]\n",
            "[('sed', 2), ('lorem', 1)]\n"
          ]
        }
      ]
    },
    {
      "cell_type": "code",
      "source": [
        "from collections import Counter\n",
        "\n",
        "text = 'Lorem ipsum dolor sit amet, consectetur adipiscing elit. Sed sed lacinia est.'\n",
        "\n",
        "\n",
        "def count_words(text):\n",
        "    clean_text = [word.strip('.,!?()[]{}\":;') for word in text.lower().split()]\n",
        "    my_counter = Counter(clean_text)\n",
        "    max_repeat = max(my_counter.values())\n",
        "    for key, value in my_counter.items():\n",
        "        if value == max_repeat:\n",
        "            print(key, value)\n",
        "\n",
        "\n",
        "count_words(text)"
      ],
      "metadata": {
        "colab": {
          "base_uri": "https://localhost:8080/"
        },
        "id": "C1WmU8ig0gWn",
        "outputId": "4415d394-c00f-4cfb-8667-9a905dd1710f"
      },
      "execution_count": null,
      "outputs": [
        {
          "output_type": "stream",
          "name": "stdout",
          "text": [
            "sed 2\n"
          ]
        }
      ]
    },
    {
      "cell_type": "code",
      "source": [
        "from collections import Counter\n",
        "usrstr = \"Lorem ipsum dolor sit amet, consectetur adipiscing elit. Sed sed lacinia est.\"\n",
        "def count_words(text):\n",
        "    text = text.lower()\n",
        "    for symbol in text:\n",
        "        if not (symbol.isnumeric() or symbol.isspace() or symbol.isalnum()):\n",
        "            text = text.replace(symbol, \"\")\n",
        "    x = Counter(text.split())\n",
        "    return x\n",
        "print(count_words(usrstr))"
      ],
      "metadata": {
        "colab": {
          "base_uri": "https://localhost:8080/"
        },
        "id": "88TmyVy57Eyl",
        "outputId": "2b57d6a1-9d25-4c11-d82b-71f036ec32eb"
      },
      "execution_count": null,
      "outputs": [
        {
          "output_type": "stream",
          "name": "stdout",
          "text": [
            "Counter({'sed': 2, 'lorem': 1, 'ipsum': 1, 'dolor': 1, 'sit': 1, 'amet': 1, 'consectetur': 1, 'adipiscing': 1, 'elit': 1, 'lacinia': 1, 'est': 1})\n"
          ]
        }
      ]
    },
    {
      "cell_type": "code",
      "source": [
        "from collections import Counter\n",
        "\n",
        "def count_words(s):\n",
        "    s = s.lower().split() # Приводим текст к нижнему регистру и разбиваем на слова\n",
        "    return dict(Counter(s).most_common(2))\n",
        "\n",
        "user_str = input('Введенный текст: ')\n",
        "print(count_words(user_str))"
      ],
      "metadata": {
        "id": "dlo2585p734m"
      },
      "execution_count": null,
      "outputs": []
    },
    {
      "cell_type": "markdown",
      "source": [
        "### 2.\n",
        "Напишите программу, которая создает именованный кортеж Person для хранения информации о человеке, включающий поля name, age и city. Создайте список объектов Person и выведите информацию о каждом человеке на экран.\n",
        "\n",
        "\n",
        "Пример вывода:\n",
        "\n",
        "\n",
        "Name: Alice, Age: 25, City: New York\n",
        "\n",
        "Name: Bob, Age: 30, City: London\n",
        "\n",
        "Name: Carol, Age: 35, City: Paris"
      ],
      "metadata": {
        "id": "4KgqYKHTyi6B"
      }
    },
    {
      "cell_type": "code",
      "source": [
        "from collections import namedtuple\n",
        "\n",
        "Person = namedtuple('Person', ['name', 'age', 'city'])\n",
        "\n",
        "\n",
        "def display_people(people):\n",
        "    for person in people:\n",
        "        print(f'Name: {person.name}, Age: {person.age}, City: {person.city}')\n",
        "\n",
        "\n",
        "people = [\n",
        "    Person(name='Alice', age=25, city='New York'),\n",
        "    Person(name='Bob', age=30, city='London'),\n",
        "    Person(name='Carol', age=35, city='Paris')\n",
        "]\n",
        "\n",
        "display_people(people)"
      ],
      "metadata": {
        "colab": {
          "base_uri": "https://localhost:8080/"
        },
        "id": "da1CdOJa0uaO",
        "outputId": "d0358fd8-06b0-463b-bbab-e08cc8b290b2"
      },
      "execution_count": null,
      "outputs": [
        {
          "output_type": "stream",
          "name": "stdout",
          "text": [
            "Name: Alice, Age: 25, City: New York\n",
            "Name: Bob, Age: 30, City: London\n",
            "Name: Carol, Age: 35, City: Paris\n"
          ]
        }
      ]
    },
    {
      "cell_type": "markdown",
      "source": [
        "### 3.\n",
        "Напишите программу, которая принимает словарь от пользователя и ключ, и возвращает значение для указанного ключа с использованием метода get или setdefault. Создайте функцию get_value_from_dict, которая принимает словарь и ключ в качестве аргументов, и возвращает значение для указанного ключа, используя метод get или setdefault в зависимости от выбранного варианта. Выведите полученное значение на экран.\n",
        "\n",
        "\n",
        "Пример словаря:\n",
        "\n",
        "my_dict = {'apple': 5, 'banana': 6, 'cherry': 7}\n",
        "\n",
        "\n",
        "Пример вывода:\n",
        "\n",
        "\n",
        "Введите ключ для поиска: banana\n",
        "\n",
        "Использовать метод get (y/n)? y\n",
        "\n",
        "Значение для ключа 'banana': 6"
      ],
      "metadata": {
        "id": "6NzSublPymlD"
      }
    },
    {
      "cell_type": "code",
      "source": [
        "my_dict = {'apple': 5, 'banana': 6, 'cherry': 7}\n",
        "\n",
        "def get_value_from_dict(dict):\n",
        "    your_key = input('\\nВведите ключ для поиска: ')\n",
        "    get_setdefault = input(\"Для спользования get() введите 'g', для setdefault() введите 's': \")\n",
        "    if get_setdefault == 'g':\n",
        "        print(f\"\\nЗначение для ключа '{your_key}': {dict.get(your_key)}\")\n",
        "    elif get_setdefault == 's':\n",
        "        print(f\"\\nЗначение для ключа '{your_key}': {dict.setdefault(your_key)}\")\n",
        "    else:\n",
        "        print(\"\\nОшибка ввода, попробуйте заново!\", ), {get_value_from_dict(my_dict)}\n",
        "\n",
        "get_value_from_dict(my_dict)\n",
        "print(my_dict)"
      ],
      "metadata": {
        "colab": {
          "base_uri": "https://localhost:8080/"
        },
        "id": "Qm3jJ5Ff0CPA",
        "outputId": "a1de7c58-4ab9-4518-923e-a5f082626fee"
      },
      "execution_count": null,
      "outputs": [
        {
          "output_type": "stream",
          "name": "stdout",
          "text": [
            "\n",
            "Введите ключ для поиска: kiwi\n",
            "Для спользования get() введите 'g', для setdefault() введите 's': s\n",
            "\n",
            "Значение для ключа 'kiwi': None\n",
            "{'apple': 5, 'banana': 6, 'cherry': 7, 'kiwi': None}\n"
          ]
        }
      ]
    },
    {
      "cell_type": "code",
      "source": [
        "my_dict = {'apple': 5, 'banana': 6, 'cherry': 7}\n",
        "\n",
        "\n",
        "def get_value(my_dict, key, use_method_get=True):\n",
        "    if use_method_get:\n",
        "        return my_dict.get(key)\n",
        "    else:\n",
        "        return my_dict.setdefault(key, f\"The key is missing. Be careful, '{key}' was added in list.\")\n",
        "\n",
        "\n",
        "\n",
        "user_key = input(\"Enter a key for searching: \")\n",
        "use_method_get = input(\"Using method 'get' (y/n)? \").strip().lower()\n",
        "\n",
        "if use_method_get == 'y':\n",
        "    value = get_value(my_dict, user_key, use_method_get=True)\n",
        "else:\n",
        "    value = get_value(my_dict, user_key, use_method_get=False)\n",
        "\n",
        "# if value:\n",
        "    # print(value / 80)\n",
        "\n",
        "print(f\"\\n{user_key}'s value: {value}\")\n",
        "print(my_dict)"
      ],
      "metadata": {
        "id": "6UsuG_aY084s",
        "colab": {
          "base_uri": "https://localhost:8080/"
        },
        "outputId": "37b66c0a-1b01-471c-a0ce-6b6f0444f7fd"
      },
      "execution_count": null,
      "outputs": [
        {
          "output_type": "stream",
          "name": "stdout",
          "text": [
            "Enter a key for searching: dfgdg\n",
            "Using method 'get' (y/n)? n\n",
            "\n",
            "dfgdg's value: The key is missing. Be careful, 'dfgdg' was added in list.\n",
            "{'apple': 5, 'banana': 6, 'cherry': 7, 'dfgdg': \"The key is missing. Be careful, 'dfgdg' was added in list.\"}\n"
          ]
        }
      ]
    },
    {
      "cell_type": "markdown",
      "source": [
        "## Python fundamentals: Домашнее задание 22 (Python)\n"
      ],
      "metadata": {
        "id": "fVWRz15ng95b"
      }
    },
    {
      "cell_type": "markdown",
      "source": [
        "### 1.\n",
        "\n",
        "Напишите программу, которая открывает файл, считывает из него два числа и выполняет операцию их деления. Если число отрицательное, выбросите исключение ValueError с сообщением \"Число должно быть положительным\". Обработайте исключение и выведите соответствующее сообщение."
      ],
      "metadata": {
        "id": "xur9pL_5hBUs"
      }
    },
    {
      "cell_type": "code",
      "source": [
        "try:\n",
        "    with open(\"numbers.txt\", \"r\", encoding=\"utf-8\") as file:\n",
        "        for line in file:\n",
        "            try:\n",
        "                numbers = line.strip().split()\n",
        "\n",
        "                if len(numbers) != 2:\n",
        "                    raise ValueError(\"File must contain two numbers. Program terminated.\")\n",
        "\n",
        "                if not numbers[0].isdigit() or not numbers[1].isdigit():\n",
        "                    raise ValueError(\"Wrong input. Numbers must be integers. Program terminated.\")\n",
        "\n",
        "                a = int(numbers[0])\n",
        "                b = int(numbers[1])\n",
        "\n",
        "                if a < 0 or b < 0:\n",
        "                    raise ValueError(\"A number must be positive. Program terminated.\")\n",
        "\n",
        "                result = a / b\n",
        "                print(result)\n",
        "\n",
        "            except ZeroDivisionError:\n",
        "                print(\"ZeroDivisionError. Program terminated.\")\n",
        "            except ValueError as e:\n",
        "                print(e)\n",
        "\n",
        "except FileNotFoundError:\n",
        "    print(\"File not found\")\n"
      ],
      "metadata": {
        "id": "VOmVHhfWhOH7"
      },
      "execution_count": null,
      "outputs": []
    },
    {
      "cell_type": "markdown",
      "source": [
        "### 2.\n",
        "Напишите программу, которая открывает файл, считывает его содержимое и выполняет операции над числами в файле. Обработайте возможные исключения при открытии файла (FileNotFoundError) и при выполнении операций над числами (ValueError, ZeroDivisionError). Используйте конструкцию try-except-finally для обработки исключений и закрытия файла в блоке finally.\n",
        "\n"
      ],
      "metadata": {
        "id": "YSZpZwgNhEaM"
      }
    },
    {
      "cell_type": "code",
      "source": [
        "try:\n",
        "    file = open(\"data_HW_22.txt\")\n",
        "except FileNotFoundError as e:\n",
        "        print(f\"Ошибка: Файл не найден {e}\")\n",
        "else:\n",
        "    try:\n",
        "        d = [ int(i) for i in file.readline().split() ]\n",
        "        print(f\"Результат деления: {d[0] / d[1]}\")\n",
        "    except ValueError as e:\n",
        "        print(f\"Ошибка: Некорректные данные в файле: {e}\")\n",
        "    except ZeroDivisionError:\n",
        "        print(\"Делить на ноль нельзя\")\n",
        "    finally:\n",
        "        file.close()\n",
        "        print(\"Процесс завершен\")"
      ],
      "metadata": {
        "id": "NufYtsF21V09"
      },
      "execution_count": null,
      "outputs": []
    }
  ]
}