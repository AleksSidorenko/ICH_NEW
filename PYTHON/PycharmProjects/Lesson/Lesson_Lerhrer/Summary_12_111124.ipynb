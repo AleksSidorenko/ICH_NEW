{
  "nbformat": 4,
  "nbformat_minor": 0,
  "metadata": {
    "colab": {
      "provenance": []
    },
    "kernelspec": {
      "name": "python3",
      "display_name": "Python 3"
    },
    "language_info": {
      "name": "python"
    }
  },
  "cells": [
    {
      "cell_type": "markdown",
      "source": [
        "## Python fundamentals: Домашнее задание 25 (Python)\n"
      ],
      "metadata": {
        "id": "-OhniNIS2KZr"
      }
    },
    {
      "cell_type": "markdown",
      "source": [
        "### 1.\n",
        "Напишите функцию find_longest_word, которая будет принимать список слов и возвращать самое длинное слово из списка. Аннотируйте типы аргументов и возвращаемого значения функции.\n",
        "\n",
        "\n",
        "Пример вызова функции и ожидаемого вывода:\n",
        "\n",
        "\n",
        "words = [\"apple\", \"banana\", \"cherry\", \"dragonfruit\"]\n",
        "\n",
        "result = find_longest_word(words)\n",
        "\n",
        "print(result)  # Ожидаемый вывод: \"dragonfruit\""
      ],
      "metadata": {
        "id": "0O_eXEQp2PMt"
      }
    },
    {
      "cell_type": "code",
      "source": [
        "def find_longest_word(words: list[str]) -> str:\n",
        "        return max(words, key=len)\n",
        "\n",
        "your_words = [\"apple\", \"banana\", \"cherry\", \"dragonfruit\"]\n",
        "result = find_longest_word(your_words)\n",
        "print(\"\\nСлово с макс кол-вом букв:\", result)"
      ],
      "metadata": {
        "colab": {
          "base_uri": "https://localhost:8080/"
        },
        "id": "L02A7G7v2W24",
        "outputId": "806add1f-0f1b-4c07-e4a6-ec06ed8df3dd"
      },
      "execution_count": null,
      "outputs": [
        {
          "output_type": "stream",
          "name": "stdout",
          "text": [
            "\n",
            "Слово с макс кол-вом букв: dragonfruit\n"
          ]
        }
      ]
    },
    {
      "cell_type": "markdown",
      "source": [
        "### 2.\n",
        "\n",
        "Напишите программу, которая будет считывать данные о продуктах из файла и использовать аннотации типов для аргументов и возвращаемых значений функций. Создайте текстовый файл \"products.txt\", в котором каждая строка будет содержать информацию о продукте в формате \"название, цена, количество\". Например:\n",
        "\n",
        "\n",
        "\n",
        "Apple, 1.50, 10\n",
        "\n",
        "Banana, 0.75, 15\n",
        "\n",
        "\n",
        "\n",
        "В программе определите функцию calculate_total_price, которая будет принимать список продуктов и возвращать общую стоимость. Продумайте, какая аннотация должна быть у аргумента! Считайте данные из файла, разделите строки на составляющие и создайте список продуктов. Затем вызовите функцию calculate_total_price с этим списком и выведите результат.\n"
      ],
      "metadata": {
        "id": "5Il5Nv9t2N_O"
      }
    },
    {
      "cell_type": "code",
      "source": [
        "def open_file(filename: str) -> list[str]:\n",
        "                          #  -> Generator[list[str], None, None]\n",
        "                          #  -> Generator[yield, send, return]\n",
        "    try:\n",
        "        with open(filename) as file:\n",
        "            file_lines = file.readlines()\n",
        "        for collection in file_lines:\n",
        "            yield collection.replace(\",\", \"\").split()\n",
        "\n",
        "    except FileNotFoundError:\n",
        "        print(\"File not found\")\n",
        "\n",
        "karta = open_file(\"products.txt\")\n",
        "for product in karta:\n",
        "    price_list = {\"product\": product[0],\"price\": float(product[1]), \"quantity\": int(product[2])}\n",
        "    sum_list = {\"product\": product[0], \"sum\": float(product[1])*int(product[2])}\n",
        "    print(\"Данные:\", price_list)\n",
        "    print(\"Сумма продаж:\", sum_list)"
      ],
      "metadata": {
        "id": "i_9dON1n2te3"
      },
      "execution_count": null,
      "outputs": []
    },
    {
      "cell_type": "code",
      "source": [
        "def convert_file_to_list(file_path: str) -> list[str]:\n",
        "\n",
        "    product_list = []\n",
        "\n",
        "    try:\n",
        "        with open(file_path, 'r', encoding='utf-8') as file:\n",
        "            for line in file:\n",
        "                product_list.append(line.strip())\n",
        "        return product_list  # Return data if everything is fine\n",
        "    except FileNotFoundError:\n",
        "        print(f\"Error: File '{file_path}' not found.\")\n",
        "    except UnicodeDecodeError:\n",
        "        print(f\"Error: File '{file_path}' contains invalid format.\")\n",
        "    except PermissionError:\n",
        "        print(f\"Error: Insufficient permissions to read the file '{file_path}'.\")\n",
        "    except IsADirectoryError:\n",
        "        print(f\"Error: '{file_path}' is a directory, not a file.\")\n",
        "    except Exception as e:\n",
        "        print(f\"Unknown error: {e}\")\n",
        "\n",
        "    return None\n",
        "\n",
        "\n",
        "\n",
        "def calculate_total_price(product_list: list[str]) -> float:\n",
        "    if product_list is None:\n",
        "        return 0.00\n",
        "\n",
        "    total_price = 0\n",
        "    for product in product_list:\n",
        "        elements = product.strip().split(', ')\n",
        "        if len(elements) != 3:\n",
        "            print(f\"Error: '{product}' contains invalid format.\")\n",
        "            continue\n",
        "\n",
        "        try:\n",
        "            price = float(elements[1])\n",
        "            quantity = float(elements[2])\n",
        "            total_price += price * quantity\n",
        "        except ValueError:\n",
        "            print(f\"Error: '{product}' contains invalid number format.\")\n",
        "\n",
        "    return round(total_price,2)\n",
        "\n",
        "\n",
        "result = calculate_total_price(convert_file_to_list('products.txt'))\n",
        "print(f'Total price: {result}')"
      ],
      "metadata": {
        "id": "KodmezDL3aUV"
      },
      "execution_count": null,
      "outputs": []
    },
    {
      "cell_type": "code",
      "source": [
        "from typing import List, Tuple\n",
        "def read_products_file() -> list[tuple[str, float, int]]:\n",
        "    with open(r\"C:\\Users\\ICH\\PycharmProjects\\pythonProject\\HOMEWORKS\\products.txt\", encoding='utf-8') as file:\n",
        "        products = []\n",
        "        for line in file:\n",
        "            name, price, quantity = line.strip().split(\", \")\n",
        "            products.append((name, float(price), int(quantity)))\n",
        "    return products\n",
        "\n",
        "def calculate_total_price(products: list[tuple[str, float, int]]) -> float:\n",
        "    result = sum(price * quantity for _, price, quantity in products)\n",
        "    return result\n",
        "\n",
        "\n",
        "file_products = read_products_file()\n",
        "sum_price = calculate_total_price(file_products)\n",
        "print(f'Total cost: {sum_price}')\n"
      ],
      "metadata": {
        "id": "GlMv61Cs6PBH"
      },
      "execution_count": null,
      "outputs": []
    },
    {
      "cell_type": "code",
      "source": [
        "from typing import TextIO\n",
        "\n",
        "def calculate_total_price(data: TextIO) -> float:\n",
        "    total = 0\n",
        "    for line in data:\n",
        "        line = line.strip().split(\",\")\n",
        "        total += float(line[1])\n",
        "    return total\n",
        "\n",
        "with open(\"products.txt\", \"r\") as file:\n",
        "    print(f\"The total sum of all products is: {calculate_total_price(file)}\")"
      ],
      "metadata": {
        "id": "3KpRJ64_84tW"
      },
      "execution_count": null,
      "outputs": []
    }
  ]
}